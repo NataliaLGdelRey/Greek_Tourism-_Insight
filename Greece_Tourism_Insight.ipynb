{
 "cells": [
  {
   "cell_type": "markdown",
   "metadata": {},
   "source": [
    "# Dependencies"
   ]
  },
  {
   "cell_type": "code",
   "execution_count": 1,
   "metadata": {},
   "outputs": [],
   "source": [
    "# Import the dependencies\n",
    "import numpy as np\n",
    "import pandas as pd\n",
    "import matplotlib.pyplot as plt\n",
    "\n",
    "from pathlib import Path\n",
    "from sklearn.metrics import confusion_matrix, classification_report\n",
    "\n",
    "from sklearn.model_selection import train_test_split\n"
   ]
  },
  {
   "cell_type": "markdown",
   "metadata": {},
   "source": [
    "### Exploring the dataset"
   ]
  },
  {
   "cell_type": "code",
   "execution_count": 2,
   "metadata": {},
   "outputs": [
    {
     "data": {
      "text/html": [
       "<div>\n",
       "<style scoped>\n",
       "    .dataframe tbody tr th:only-of-type {\n",
       "        vertical-align: middle;\n",
       "    }\n",
       "\n",
       "    .dataframe tbody tr th {\n",
       "        vertical-align: top;\n",
       "    }\n",
       "\n",
       "    .dataframe thead th {\n",
       "        text-align: right;\n",
       "    }\n",
       "</style>\n",
       "<table border=\"1\" class=\"dataframe\">\n",
       "  <thead>\n",
       "    <tr style=\"text-align: right;\">\n",
       "      <th></th>\n",
       "      <th>Trip #no.</th>\n",
       "      <th>Duration</th>\n",
       "      <th>Cost of Travel(Entire Trip)</th>\n",
       "      <th>Mode of Travel</th>\n",
       "      <th>Stay</th>\n",
       "      <th>First Name</th>\n",
       "      <th>Last Name</th>\n",
       "      <th>Date of Birth</th>\n",
       "      <th>Address</th>\n",
       "      <th>Age</th>\n",
       "      <th>Sex</th>\n",
       "      <th>Nationality</th>\n",
       "      <th>Date of Travel</th>\n",
       "    </tr>\n",
       "  </thead>\n",
       "  <tbody>\n",
       "    <tr>\n",
       "      <th>0</th>\n",
       "      <td>55</td>\n",
       "      <td>1</td>\n",
       "      <td>20111</td>\n",
       "      <td>Flight</td>\n",
       "      <td>Hotel</td>\n",
       "      <td>Cristina</td>\n",
       "      <td>Fuentes</td>\n",
       "      <td>1914-06-14</td>\n",
       "      <td>5143 Pope Camp Apt. 028\\nLake Emily, UT 71371</td>\n",
       "      <td>74</td>\n",
       "      <td>Non-Binary</td>\n",
       "      <td>Lao People's Democratic Republic</td>\n",
       "      <td>2022-09-13</td>\n",
       "    </tr>\n",
       "    <tr>\n",
       "      <th>1</th>\n",
       "      <td>288</td>\n",
       "      <td>5</td>\n",
       "      <td>29681</td>\n",
       "      <td>Car</td>\n",
       "      <td>Hotel</td>\n",
       "      <td>Patricia</td>\n",
       "      <td>Young</td>\n",
       "      <td>1923-09-25</td>\n",
       "      <td>716 Dominguez Row Suite 775\\nSouth Tiffanyboro...</td>\n",
       "      <td>19</td>\n",
       "      <td>Female</td>\n",
       "      <td>Gabon</td>\n",
       "      <td>2021-09-04</td>\n",
       "    </tr>\n",
       "    <tr>\n",
       "      <th>2</th>\n",
       "      <td>291</td>\n",
       "      <td>7</td>\n",
       "      <td>24950</td>\n",
       "      <td>Flight</td>\n",
       "      <td>Airbnb</td>\n",
       "      <td>Christina</td>\n",
       "      <td>Kirby</td>\n",
       "      <td>1935-01-02</td>\n",
       "      <td>PSC 4600, Box 1237\\nAPO AE 32510</td>\n",
       "      <td>36</td>\n",
       "      <td>Female</td>\n",
       "      <td>Syrian Arab Republic</td>\n",
       "      <td>2021-01-25</td>\n",
       "    </tr>\n",
       "    <tr>\n",
       "      <th>3</th>\n",
       "      <td>131</td>\n",
       "      <td>19</td>\n",
       "      <td>18676</td>\n",
       "      <td>Roadtrip</td>\n",
       "      <td>Airbnb</td>\n",
       "      <td>Michael</td>\n",
       "      <td>Hudson</td>\n",
       "      <td>1982-04-21</td>\n",
       "      <td>7013 Bryant Club Suite 695\\nSouth Tina, WI 26739</td>\n",
       "      <td>38</td>\n",
       "      <td>Non-Binary</td>\n",
       "      <td>Afghanistan</td>\n",
       "      <td>2022-01-28</td>\n",
       "    </tr>\n",
       "    <tr>\n",
       "      <th>4</th>\n",
       "      <td>281</td>\n",
       "      <td>28</td>\n",
       "      <td>18899</td>\n",
       "      <td>Flight</td>\n",
       "      <td>Airbnb</td>\n",
       "      <td>Francisco</td>\n",
       "      <td>Hensley</td>\n",
       "      <td>1913-06-29</td>\n",
       "      <td>074 Scott Brook Suite 700\\nLukeville, VA 46541</td>\n",
       "      <td>38</td>\n",
       "      <td>Non-Binary</td>\n",
       "      <td>Uruguay</td>\n",
       "      <td>2021-10-21</td>\n",
       "    </tr>\n",
       "  </tbody>\n",
       "</table>\n",
       "</div>"
      ],
      "text/plain": [
       "   Trip #no.  Duration  Cost of Travel(Entire Trip) Mode of Travel    Stay   \n",
       "0         55         1                        20111         Flight   Hotel  \\\n",
       "1        288         5                        29681            Car   Hotel   \n",
       "2        291         7                        24950         Flight  Airbnb   \n",
       "3        131        19                        18676       Roadtrip  Airbnb   \n",
       "4        281        28                        18899         Flight  Airbnb   \n",
       "\n",
       "  First Name Last Name Date of Birth   \n",
       "0   Cristina   Fuentes    1914-06-14  \\\n",
       "1   Patricia     Young    1923-09-25   \n",
       "2  Christina     Kirby    1935-01-02   \n",
       "3    Michael    Hudson    1982-04-21   \n",
       "4  Francisco   Hensley    1913-06-29   \n",
       "\n",
       "                                             Address  Age         Sex   \n",
       "0      5143 Pope Camp Apt. 028\\nLake Emily, UT 71371   74  Non-Binary  \\\n",
       "1  716 Dominguez Row Suite 775\\nSouth Tiffanyboro...   19      Female   \n",
       "2                   PSC 4600, Box 1237\\nAPO AE 32510   36      Female   \n",
       "3   7013 Bryant Club Suite 695\\nSouth Tina, WI 26739   38  Non-Binary   \n",
       "4     074 Scott Brook Suite 700\\nLukeville, VA 46541   38  Non-Binary   \n",
       "\n",
       "                        Nationality Date of Travel  \n",
       "0  Lao People's Democratic Republic     2022-09-13  \n",
       "1                             Gabon     2021-09-04  \n",
       "2              Syrian Arab Republic     2021-01-25  \n",
       "3                       Afghanistan     2022-01-28  \n",
       "4                           Uruguay     2021-10-21  "
      ]
     },
     "execution_count": 2,
     "metadata": {},
     "output_type": "execute_result"
    }
   ],
   "source": [
    "# Read the CSV \n",
    "\n",
    "# Read the CSV file from the Resources folder into a Pandas DataFrame\n",
    "travel_df = pd.read_csv('./Resources/travel_tourism_dataset.csv')\n",
    "\n",
    "# Review the DataFrame\n",
    "travel_df.head()\n"
   ]
  },
  {
   "cell_type": "code",
   "execution_count": null,
   "metadata": {},
   "outputs": [],
   "source": [
    "# Split the date column into year, month, and day columns\n",
    "travel_df[['year', 'month', 'day']] = travel_df['Date of Travel'].str.split('-', expand=True)\n",
    "\n",
    "# Convert the new columns to integer type\n",
    "travel_df['Year'] = travel_df['year'].astype(int)\n",
    "travel_df['Month'] = travel_df['month'].astype(int)\n",
    "travel_df['Day'] = travel_df['day'].astype(int)"
   ]
  },
  {
   "cell_type": "code",
   "execution_count": null,
   "metadata": {},
   "outputs": [],
   "source": [
    "# Drop columns 'Trip #no.' and 'Date of Travel' from the DataFrame\n",
    "cleaned_df = travel_df.drop(['Trip #no.', 'Date of Travel', 'day', 'month', 'year'], axis=1)"
   ]
  },
  {
   "cell_type": "code",
   "execution_count": null,
   "metadata": {},
   "outputs": [],
   "source": [
    "# Rename the 'Cost of Travel(Entire Trip)' to 'Cost of Travel(Entire Trip) in Euros'\n",
    "cleaned_df = cleaned_df.rename(columns={'Cost of Travel(Entire Trip)': 'Cost of Travel(Entire Trip) in Euros'})"
   ]
  },
  {
   "cell_type": "code",
   "execution_count": null,
   "metadata": {},
   "outputs": [],
   "source": []
  },
  {
   "cell_type": "markdown",
   "metadata": {},
   "source": [
    "### Export the cleaned dataset into a new csv file"
   ]
  },
  {
   "cell_type": "code",
   "execution_count": null,
   "metadata": {},
   "outputs": [],
   "source": [
    "# Export the DataFrame to a CSV file\n",
    "cleaned_df.to_csv('./Resources/cleaned_df.csv', index=False) "
   ]
  }
 ],
 "metadata": {
  "kernelspec": {
   "display_name": "base",
   "language": "python",
   "name": "python3"
  },
  "language_info": {
   "codemirror_mode": {
    "name": "ipython",
    "version": 3
   },
   "file_extension": ".py",
   "mimetype": "text/x-python",
   "name": "python",
   "nbconvert_exporter": "python",
   "pygments_lexer": "ipython3",
   "version": "3.11.3"
  }
 },
 "nbformat": 4,
 "nbformat_minor": 2
}
