{
 "cells": [
  {
   "cell_type": "code",
   "execution_count": 1,
   "metadata": {},
   "outputs": [],
   "source": [
    "# Import the modules\n",
    "import numpy as np\n",
    "import pandas as pd\n",
    "import matplotlib.pyplot as plt\n",
    "\n",
    "from pathlib import Path\n",
    "from sklearn.metrics import confusion_matrix, classification_report\n",
    "\n",
    "from sklearn.model_selection import train_test_split"
   ]
  },
  {
   "cell_type": "markdown",
   "metadata": {},
   "source": [
    "### Split the Data into Training and Testing Sets."
   ]
  },
  {
   "cell_type": "markdown",
   "metadata": {},
   "source": [
    "### Step 1: Read the csv data from the Resources folder into a Pandas DataFrame."
   ]
  },
  {
   "cell_type": "code",
   "execution_count": 2,
   "metadata": {},
   "outputs": [
    {
     "data": {
      "text/html": [
       "<div>\n",
       "<style scoped>\n",
       "    .dataframe tbody tr th:only-of-type {\n",
       "        vertical-align: middle;\n",
       "    }\n",
       "\n",
       "    .dataframe tbody tr th {\n",
       "        vertical-align: top;\n",
       "    }\n",
       "\n",
       "    .dataframe thead th {\n",
       "        text-align: right;\n",
       "    }\n",
       "</style>\n",
       "<table border=\"1\" class=\"dataframe\">\n",
       "  <thead>\n",
       "    <tr style=\"text-align: right;\">\n",
       "      <th></th>\n",
       "      <th>Duration</th>\n",
       "      <th>Cost of Travel(Entire Trip) in Euros</th>\n",
       "      <th>Mode of Travel</th>\n",
       "      <th>Stay</th>\n",
       "      <th>First Name</th>\n",
       "      <th>Last Name</th>\n",
       "      <th>Date of Birth</th>\n",
       "      <th>Address</th>\n",
       "      <th>Age</th>\n",
       "      <th>Sex</th>\n",
       "      <th>Nationality</th>\n",
       "      <th>Date of Travel</th>\n",
       "      <th>Year</th>\n",
       "      <th>Month</th>\n",
       "      <th>Day</th>\n",
       "      <th>Cost per Day</th>\n",
       "      <th>ZIP</th>\n",
       "    </tr>\n",
       "  </thead>\n",
       "  <tbody>\n",
       "    <tr>\n",
       "      <th>0</th>\n",
       "      <td>1</td>\n",
       "      <td>20111.0</td>\n",
       "      <td>Flight</td>\n",
       "      <td>Hotel</td>\n",
       "      <td>Cristina</td>\n",
       "      <td>Fuentes</td>\n",
       "      <td>1914-06-14</td>\n",
       "      <td>5143 Pope Camp Apt. 028\\nLake Emily, UT 71371</td>\n",
       "      <td>74</td>\n",
       "      <td>Non-Binary</td>\n",
       "      <td>Lao People's Democratic Republic</td>\n",
       "      <td>2022-09-13</td>\n",
       "      <td>2022</td>\n",
       "      <td>9</td>\n",
       "      <td>13</td>\n",
       "      <td>20111.000000</td>\n",
       "      <td>71371</td>\n",
       "    </tr>\n",
       "    <tr>\n",
       "      <th>1</th>\n",
       "      <td>5</td>\n",
       "      <td>29681.0</td>\n",
       "      <td>Car</td>\n",
       "      <td>Hotel</td>\n",
       "      <td>Patricia</td>\n",
       "      <td>Young</td>\n",
       "      <td>1923-09-25</td>\n",
       "      <td>716 Dominguez Row Suite 775\\nSouth Tiffanyboro...</td>\n",
       "      <td>19</td>\n",
       "      <td>Female</td>\n",
       "      <td>Gabon</td>\n",
       "      <td>2021-09-04</td>\n",
       "      <td>2021</td>\n",
       "      <td>9</td>\n",
       "      <td>4</td>\n",
       "      <td>5936.200000</td>\n",
       "      <td>27800</td>\n",
       "    </tr>\n",
       "    <tr>\n",
       "      <th>2</th>\n",
       "      <td>7</td>\n",
       "      <td>24950.0</td>\n",
       "      <td>Flight</td>\n",
       "      <td>Airbnb</td>\n",
       "      <td>Christina</td>\n",
       "      <td>Kirby</td>\n",
       "      <td>1935-01-02</td>\n",
       "      <td>PSC 4600, Box 1237\\nAPO AE 32510</td>\n",
       "      <td>36</td>\n",
       "      <td>Female</td>\n",
       "      <td>Syrian Arab Republic</td>\n",
       "      <td>2021-01-25</td>\n",
       "      <td>2021</td>\n",
       "      <td>1</td>\n",
       "      <td>25</td>\n",
       "      <td>3564.285714</td>\n",
       "      <td>32510</td>\n",
       "    </tr>\n",
       "    <tr>\n",
       "      <th>3</th>\n",
       "      <td>19</td>\n",
       "      <td>18676.0</td>\n",
       "      <td>Roadtrip</td>\n",
       "      <td>Airbnb</td>\n",
       "      <td>Michael</td>\n",
       "      <td>Hudson</td>\n",
       "      <td>1982-04-21</td>\n",
       "      <td>7013 Bryant Club Suite 695\\nSouth Tina, WI 26739</td>\n",
       "      <td>38</td>\n",
       "      <td>Non-Binary</td>\n",
       "      <td>Afghanistan</td>\n",
       "      <td>2022-01-28</td>\n",
       "      <td>2022</td>\n",
       "      <td>1</td>\n",
       "      <td>28</td>\n",
       "      <td>982.947368</td>\n",
       "      <td>26739</td>\n",
       "    </tr>\n",
       "    <tr>\n",
       "      <th>4</th>\n",
       "      <td>28</td>\n",
       "      <td>18899.0</td>\n",
       "      <td>Flight</td>\n",
       "      <td>Airbnb</td>\n",
       "      <td>Francisco</td>\n",
       "      <td>Hensley</td>\n",
       "      <td>1913-06-29</td>\n",
       "      <td>074 Scott Brook Suite 700\\nLukeville, VA 46541</td>\n",
       "      <td>38</td>\n",
       "      <td>Non-Binary</td>\n",
       "      <td>Uruguay</td>\n",
       "      <td>2021-10-21</td>\n",
       "      <td>2021</td>\n",
       "      <td>10</td>\n",
       "      <td>21</td>\n",
       "      <td>674.964286</td>\n",
       "      <td>46541</td>\n",
       "    </tr>\n",
       "  </tbody>\n",
       "</table>\n",
       "</div>"
      ],
      "text/plain": [
       "   Duration  Cost of Travel(Entire Trip) in Euros Mode of Travel    Stay   \n",
       "0         1                               20111.0         Flight   Hotel  \\\n",
       "1         5                               29681.0            Car   Hotel   \n",
       "2         7                               24950.0         Flight  Airbnb   \n",
       "3        19                               18676.0       Roadtrip  Airbnb   \n",
       "4        28                               18899.0         Flight  Airbnb   \n",
       "\n",
       "  First Name Last Name Date of Birth   \n",
       "0   Cristina   Fuentes    1914-06-14  \\\n",
       "1   Patricia     Young    1923-09-25   \n",
       "2  Christina     Kirby    1935-01-02   \n",
       "3    Michael    Hudson    1982-04-21   \n",
       "4  Francisco   Hensley    1913-06-29   \n",
       "\n",
       "                                             Address  Age         Sex   \n",
       "0      5143 Pope Camp Apt. 028\\nLake Emily, UT 71371   74  Non-Binary  \\\n",
       "1  716 Dominguez Row Suite 775\\nSouth Tiffanyboro...   19      Female   \n",
       "2                   PSC 4600, Box 1237\\nAPO AE 32510   36      Female   \n",
       "3   7013 Bryant Club Suite 695\\nSouth Tina, WI 26739   38  Non-Binary   \n",
       "4     074 Scott Brook Suite 700\\nLukeville, VA 46541   38  Non-Binary   \n",
       "\n",
       "                        Nationality Date of Travel  Year  Month  Day   \n",
       "0  Lao People's Democratic Republic     2022-09-13  2022      9   13  \\\n",
       "1                             Gabon     2021-09-04  2021      9    4   \n",
       "2              Syrian Arab Republic     2021-01-25  2021      1   25   \n",
       "3                       Afghanistan     2022-01-28  2022      1   28   \n",
       "4                           Uruguay     2021-10-21  2021     10   21   \n",
       "\n",
       "   Cost per Day    ZIP  \n",
       "0  20111.000000  71371  \n",
       "1   5936.200000  27800  \n",
       "2   3564.285714  32510  \n",
       "3    982.947368  26739  \n",
       "4    674.964286  46541  "
      ]
     },
     "execution_count": 2,
     "metadata": {},
     "output_type": "execute_result"
    }
   ],
   "source": [
    "# Read the CSV file from the Resources folder into a Pandas DataFrame\n",
    "lending_data_df = pd.read_csv('../Resources/cleaned_df.csv')\n",
    "\n",
    "# Review the DataFrame\n",
    "lending_data_df.head()"
   ]
  },
  {
   "cell_type": "markdown",
   "metadata": {},
   "source": [
    "### Step 2: Create the labels set (y) from the Cost column, and then create the features (X) DataFrame from the remaining columns."
   ]
  },
  {
   "cell_type": "markdown",
   "metadata": {},
   "source": [
    "Using Cost of Travel(Entire Trip) results in the error: ValueError: The least populated class in y has only 1 member, which is too few. The minimum number of groups for any class cannot be less than 2."
   ]
  },
  {
   "cell_type": "markdown",
   "metadata": {},
   "source": [
    "### Step 2: Create the labels set (y) from the Duration column, and then create the features (X) DataFrame from the remaining columns."
   ]
  },
  {
   "cell_type": "code",
   "execution_count": 3,
   "metadata": {},
   "outputs": [],
   "source": [
    "# Separate the y variable, the labels\n",
    "y = lending_data_df['Duration']\n",
    "\n",
    "# Separate the X variable, the features\n",
    "X = lending_data_df.drop([\"Duration\", \"Stay\", \"Mode of Travel\", \"First Name\", \"Last Name\", \"Address\", \"Date of Birth\", \"Sex\", \"Nationality\", \"Date of Travel\" ], axis=1)"
   ]
  },
  {
   "cell_type": "code",
   "execution_count": 4,
   "metadata": {},
   "outputs": [
    {
     "data": {
      "text/plain": [
       "0     1\n",
       "1     5\n",
       "2     7\n",
       "3    19\n",
       "4    28\n",
       "Name: Duration, dtype: int64"
      ]
     },
     "execution_count": 4,
     "metadata": {},
     "output_type": "execute_result"
    }
   ],
   "source": [
    "# Review the y variable Series\n",
    "y[:5]"
   ]
  },
  {
   "cell_type": "code",
   "execution_count": 5,
   "metadata": {},
   "outputs": [
    {
     "data": {
      "text/html": [
       "<div>\n",
       "<style scoped>\n",
       "    .dataframe tbody tr th:only-of-type {\n",
       "        vertical-align: middle;\n",
       "    }\n",
       "\n",
       "    .dataframe tbody tr th {\n",
       "        vertical-align: top;\n",
       "    }\n",
       "\n",
       "    .dataframe thead th {\n",
       "        text-align: right;\n",
       "    }\n",
       "</style>\n",
       "<table border=\"1\" class=\"dataframe\">\n",
       "  <thead>\n",
       "    <tr style=\"text-align: right;\">\n",
       "      <th></th>\n",
       "      <th>Cost of Travel(Entire Trip) in Euros</th>\n",
       "      <th>Age</th>\n",
       "      <th>Year</th>\n",
       "      <th>Month</th>\n",
       "      <th>Day</th>\n",
       "      <th>Cost per Day</th>\n",
       "      <th>ZIP</th>\n",
       "    </tr>\n",
       "  </thead>\n",
       "  <tbody>\n",
       "    <tr>\n",
       "      <th>0</th>\n",
       "      <td>20111.0</td>\n",
       "      <td>74</td>\n",
       "      <td>2022</td>\n",
       "      <td>9</td>\n",
       "      <td>13</td>\n",
       "      <td>20111.000000</td>\n",
       "      <td>71371</td>\n",
       "    </tr>\n",
       "    <tr>\n",
       "      <th>1</th>\n",
       "      <td>29681.0</td>\n",
       "      <td>19</td>\n",
       "      <td>2021</td>\n",
       "      <td>9</td>\n",
       "      <td>4</td>\n",
       "      <td>5936.200000</td>\n",
       "      <td>27800</td>\n",
       "    </tr>\n",
       "    <tr>\n",
       "      <th>2</th>\n",
       "      <td>24950.0</td>\n",
       "      <td>36</td>\n",
       "      <td>2021</td>\n",
       "      <td>1</td>\n",
       "      <td>25</td>\n",
       "      <td>3564.285714</td>\n",
       "      <td>32510</td>\n",
       "    </tr>\n",
       "    <tr>\n",
       "      <th>3</th>\n",
       "      <td>18676.0</td>\n",
       "      <td>38</td>\n",
       "      <td>2022</td>\n",
       "      <td>1</td>\n",
       "      <td>28</td>\n",
       "      <td>982.947368</td>\n",
       "      <td>26739</td>\n",
       "    </tr>\n",
       "    <tr>\n",
       "      <th>4</th>\n",
       "      <td>18899.0</td>\n",
       "      <td>38</td>\n",
       "      <td>2021</td>\n",
       "      <td>10</td>\n",
       "      <td>21</td>\n",
       "      <td>674.964286</td>\n",
       "      <td>46541</td>\n",
       "    </tr>\n",
       "  </tbody>\n",
       "</table>\n",
       "</div>"
      ],
      "text/plain": [
       "   Cost of Travel(Entire Trip) in Euros  Age  Year  Month  Day  Cost per Day   \n",
       "0                               20111.0   74  2022      9   13  20111.000000  \\\n",
       "1                               29681.0   19  2021      9    4   5936.200000   \n",
       "2                               24950.0   36  2021      1   25   3564.285714   \n",
       "3                               18676.0   38  2022      1   28    982.947368   \n",
       "4                               18899.0   38  2021     10   21    674.964286   \n",
       "\n",
       "     ZIP  \n",
       "0  71371  \n",
       "1  27800  \n",
       "2  32510  \n",
       "3  26739  \n",
       "4  46541  "
      ]
     },
     "execution_count": 5,
     "metadata": {},
     "output_type": "execute_result"
    }
   ],
   "source": [
    "# Review the X variable DataFrame\n",
    "X.head()"
   ]
  },
  {
   "cell_type": "code",
   "execution_count": 6,
   "metadata": {},
   "outputs": [
    {
     "data": {
      "text/plain": [
       "Duration\n",
       "18    114\n",
       "16    112\n",
       "26    111\n",
       "6     111\n",
       "8     110\n",
       "22    109\n",
       "27    109\n",
       "9     106\n",
       "15    105\n",
       "13    104\n",
       "30    104\n",
       "28    104\n",
       "14    103\n",
       "25    103\n",
       "12    103\n",
       "7     101\n",
       "4     101\n",
       "1     101\n",
       "24    101\n",
       "29     98\n",
       "2      97\n",
       "21     93\n",
       "11     93\n",
       "20     93\n",
       "19     93\n",
       "3      88\n",
       "23     87\n",
       "17     86\n",
       "10     85\n",
       "5      75\n",
       "Name: count, dtype: int64"
      ]
     },
     "execution_count": 6,
     "metadata": {},
     "output_type": "execute_result"
    }
   ],
   "source": [
    "# Check the balance of target values\n",
    "y.value_counts()"
   ]
  },
  {
   "cell_type": "markdown",
   "metadata": {},
   "source": [
    "### Step 3: Split the data into training and testing datasets by using train_test_split."
   ]
  },
  {
   "cell_type": "code",
   "execution_count": 7,
   "metadata": {},
   "outputs": [],
   "source": [
    "# Import the train_test_learn module\n",
    "from sklearn.model_selection import train_test_split\n",
    "\n",
    "# Split the data using train_test_split\n",
    "# Assign a random_state of 1 to the function\n",
    "X_train, X_test, y_train, y_test = train_test_split(X, y, random_state=1, stratify=y)"
   ]
  },
  {
   "cell_type": "markdown",
   "metadata": {},
   "source": [
    "### Create a Logistic Regression Model with the Original Data."
   ]
  },
  {
   "cell_type": "markdown",
   "metadata": {},
   "source": [
    "### Step 1: Fit a logistic regression model by using the training data (X_train and y_train)."
   ]
  },
  {
   "cell_type": "code",
   "execution_count": 8,
   "metadata": {},
   "outputs": [
    {
     "name": "stderr",
     "output_type": "stream",
     "text": [
      "/Users/natalia/anaconda3/envs/intro_python_requirements_osx/lib/python3.11/site-packages/sklearn/linear_model/_logistic.py:814: ConvergenceWarning: lbfgs failed to converge (status=1):\n",
      "STOP: TOTAL NO. of ITERATIONS REACHED LIMIT.\n",
      "\n",
      "Increase the number of iterations (max_iter) or scale the data as shown in:\n",
      "    https://scikit-learn.org/stable/modules/preprocessing.html\n",
      "Please also refer to the documentation for alternative solver options:\n",
      "    https://scikit-learn.org/stable/modules/linear_model.html#logistic-regression\n",
      "  n_iter_i = _check_optimize_result(\n"
     ]
    },
    {
     "data": {
      "text/plain": [
       "LogisticRegression(random_state=1)"
      ]
     },
     "execution_count": 8,
     "metadata": {},
     "output_type": "execute_result"
    }
   ],
   "source": [
    "# Import the LogisticRegression module from SKLearn\n",
    "from sklearn.linear_model import LogisticRegression\n",
    "\n",
    "# Instantiate the Logistic Regression model\n",
    "# Assign a random_state parameter of 1 to the model\n",
    "classifier = LogisticRegression(solver='lbfgs', random_state=1)\n",
    "\n",
    "# Fit the model using training data\n",
    "classifier.fit(X_train, y_train)"
   ]
  },
  {
   "cell_type": "markdown",
   "metadata": {},
   "source": [
    "### Step 2: Save the predictions on the testing data labels by using the testing feature data (X_test) and the fitted model."
   ]
  },
  {
   "cell_type": "code",
   "execution_count": 10,
   "metadata": {},
   "outputs": [
    {
     "data": {
      "text/html": [
       "<div>\n",
       "<style scoped>\n",
       "    .dataframe tbody tr th:only-of-type {\n",
       "        vertical-align: middle;\n",
       "    }\n",
       "\n",
       "    .dataframe tbody tr th {\n",
       "        vertical-align: top;\n",
       "    }\n",
       "\n",
       "    .dataframe thead th {\n",
       "        text-align: right;\n",
       "    }\n",
       "</style>\n",
       "<table border=\"1\" class=\"dataframe\">\n",
       "  <thead>\n",
       "    <tr style=\"text-align: right;\">\n",
       "      <th></th>\n",
       "      <th>Predictions</th>\n",
       "      <th>Actual</th>\n",
       "    </tr>\n",
       "  </thead>\n",
       "  <tbody>\n",
       "    <tr>\n",
       "      <th>1463</th>\n",
       "      <td>15</td>\n",
       "      <td>14</td>\n",
       "    </tr>\n",
       "    <tr>\n",
       "      <th>1381</th>\n",
       "      <td>20</td>\n",
       "      <td>17</td>\n",
       "    </tr>\n",
       "    <tr>\n",
       "      <th>879</th>\n",
       "      <td>30</td>\n",
       "      <td>28</td>\n",
       "    </tr>\n",
       "    <tr>\n",
       "      <th>1733</th>\n",
       "      <td>29</td>\n",
       "      <td>23</td>\n",
       "    </tr>\n",
       "    <tr>\n",
       "      <th>2707</th>\n",
       "      <td>29</td>\n",
       "      <td>23</td>\n",
       "    </tr>\n",
       "    <tr>\n",
       "      <th>...</th>\n",
       "      <td>...</td>\n",
       "      <td>...</td>\n",
       "    </tr>\n",
       "    <tr>\n",
       "      <th>1038</th>\n",
       "      <td>18</td>\n",
       "      <td>18</td>\n",
       "    </tr>\n",
       "    <tr>\n",
       "      <th>2007</th>\n",
       "      <td>25</td>\n",
       "      <td>23</td>\n",
       "    </tr>\n",
       "    <tr>\n",
       "      <th>1988</th>\n",
       "      <td>28</td>\n",
       "      <td>26</td>\n",
       "    </tr>\n",
       "    <tr>\n",
       "      <th>1769</th>\n",
       "      <td>28</td>\n",
       "      <td>25</td>\n",
       "    </tr>\n",
       "    <tr>\n",
       "      <th>152</th>\n",
       "      <td>1</td>\n",
       "      <td>1</td>\n",
       "    </tr>\n",
       "  </tbody>\n",
       "</table>\n",
       "<p>750 rows × 2 columns</p>\n",
       "</div>"
      ],
      "text/plain": [
       "      Predictions  Actual\n",
       "1463           15      14\n",
       "1381           20      17\n",
       "879            30      28\n",
       "1733           29      23\n",
       "2707           29      23\n",
       "...           ...     ...\n",
       "1038           18      18\n",
       "2007           25      23\n",
       "1988           28      26\n",
       "1769           28      25\n",
       "152             1       1\n",
       "\n",
       "[750 rows x 2 columns]"
      ]
     },
     "execution_count": 10,
     "metadata": {},
     "output_type": "execute_result"
    }
   ],
   "source": [
    "# Make a prediction using the testing data\n",
    "predictions = classifier.predict(X_test)\n",
    "pd.DataFrame({\"Predictions\": predictions,\"Actual\": y_test})"
   ]
  },
  {
   "cell_type": "markdown",
   "metadata": {},
   "source": [
    "#### Step 3: Evaluate the model’s performance by doing the following:\n",
    "- Generate a confusion matrix.\n",
    "\n",
    "- Print the classification report."
   ]
  },
  {
   "cell_type": "code",
   "execution_count": 11,
   "metadata": {},
   "outputs": [
    {
     "data": {
      "text/plain": [
       "array([[25,  0,  0,  0,  0,  0,  0,  0,  0,  0,  0,  0,  0,  0,  0,  0,\n",
       "         0,  0,  0,  0,  0,  0,  0,  0,  0,  0,  0,  0,  0,  0],\n",
       "       [ 1, 23,  0,  0,  0,  0,  0,  0,  0,  0,  0,  0,  0,  0,  0,  0,\n",
       "         0,  0,  0,  0,  0,  0,  0,  0,  0,  0,  0,  0,  0,  0],\n",
       "       [ 0,  0, 22,  0,  0,  0,  0,  0,  0,  0,  0,  0,  0,  0,  0,  0,\n",
       "         0,  0,  0,  0,  0,  0,  0,  0,  0,  0,  0,  0,  0,  0],\n",
       "       [ 0,  0,  0, 25,  0,  0,  0,  0,  0,  0,  0,  0,  0,  0,  0,  0,\n",
       "         0,  0,  0,  0,  0,  0,  0,  0,  0,  0,  0,  0,  0,  0],\n",
       "       [ 0,  0,  0,  0, 19,  0,  0,  0,  0,  0,  0,  0,  0,  0,  0,  0,\n",
       "         0,  0,  0,  0,  0,  0,  0,  0,  0,  0,  0,  0,  0,  0],\n",
       "       [ 0,  0,  0,  0,  0, 28,  0,  0,  0,  0,  0,  0,  0,  0,  0,  0,\n",
       "         0,  0,  0,  0,  0,  0,  0,  0,  0,  0,  0,  0,  0,  0],\n",
       "       [ 0,  0,  0,  0,  0,  7, 18,  0,  0,  0,  0,  0,  0,  0,  0,  0,\n",
       "         0,  0,  0,  0,  0,  0,  0,  0,  0,  0,  0,  0,  0,  0],\n",
       "       [ 0,  0,  0,  0,  0,  0,  0, 25,  0,  3,  0,  0,  0,  0,  0,  0,\n",
       "         0,  0,  0,  0,  0,  0,  0,  0,  0,  0,  0,  0,  0,  0],\n",
       "       [ 0,  0,  0,  0,  0,  0,  0,  2, 15,  9,  0,  0,  1,  0,  0,  0,\n",
       "         0,  0,  0,  0,  0,  0,  0,  0,  0,  0,  0,  0,  0,  0],\n",
       "       [ 0,  0,  0,  0,  0,  0,  0,  0,  9,  9,  0,  0,  3,  0,  0,  0,\n",
       "         0,  0,  0,  0,  0,  0,  0,  0,  0,  0,  0,  0,  0,  0],\n",
       "       [ 0,  0,  0,  0,  0,  0,  0,  0,  1,  3,  8,  0, 11,  0,  0,  0,\n",
       "         0,  0,  0,  0,  0,  0,  0,  0,  0,  0,  0,  0,  0,  0],\n",
       "       [ 0,  0,  0,  0,  0,  0,  0,  0,  1,  0,  4,  6, 15,  0,  0,  0,\n",
       "         0,  0,  0,  0,  0,  0,  0,  0,  0,  0,  0,  0,  0,  0],\n",
       "       [ 0,  0,  0,  0,  0,  0,  0,  0,  0,  0,  0, 12, 11,  3,  0,  0,\n",
       "         0,  0,  0,  0,  0,  0,  0,  0,  0,  0,  0,  0,  0,  0],\n",
       "       [ 0,  0,  0,  0,  0,  0,  0,  0,  0,  0,  0,  6,  8,  3,  3,  0,\n",
       "         6,  0,  0,  0,  0,  0,  0,  0,  0,  0,  0,  0,  0,  0],\n",
       "       [ 0,  0,  0,  0,  0,  0,  0,  0,  0,  0,  0,  6,  6,  7,  3,  0,\n",
       "         3,  0,  0,  0,  0,  0,  0,  0,  1,  0,  0,  0,  0,  0],\n",
       "       [ 0,  0,  0,  0,  0,  0,  0,  0,  0,  0,  0,  1,  1,  5, 10,  4,\n",
       "         3,  0,  0,  0,  0,  0,  0,  0,  4,  0,  0,  0,  0,  0],\n",
       "       [ 0,  0,  0,  0,  0,  0,  0,  0,  0,  0,  0,  0,  0,  0,  5,  6,\n",
       "         2,  0,  0,  1,  0,  0,  2,  0,  5,  0,  0,  0,  1,  0],\n",
       "       [ 0,  0,  0,  0,  0,  0,  0,  0,  0,  0,  0,  1,  0,  0,  0, 10,\n",
       "         1,  6,  0,  0,  0,  0,  2,  0,  6,  0,  0,  0,  2,  0],\n",
       "       [ 0,  0,  0,  0,  0,  0,  0,  0,  0,  0,  0,  0,  0,  0,  0,  2,\n",
       "         0,  9,  0,  5,  1,  0,  0,  0,  5,  0,  0,  0,  1,  0],\n",
       "       [ 0,  0,  0,  0,  0,  0,  0,  0,  0,  0,  0,  0,  0,  0,  0,  5,\n",
       "         0,  5,  0,  4,  1,  0,  0,  0,  5,  0,  0,  0,  3,  0],\n",
       "       [ 0,  0,  0,  0,  0,  0,  0,  0,  0,  0,  0,  0,  0,  0,  0,  2,\n",
       "         0,  6,  0,  2,  5,  0,  0,  0,  4,  0,  0,  0,  4,  0],\n",
       "       [ 0,  0,  0,  0,  0,  0,  0,  0,  0,  0,  0,  0,  0,  0,  0,  0,\n",
       "         0,  3,  0,  4,  4,  2,  0,  0,  6,  0,  0,  0,  8,  0],\n",
       "       [ 0,  0,  0,  0,  0,  0,  0,  0,  0,  0,  0,  0,  0,  0,  0,  0,\n",
       "         0,  0,  0,  0,  2,  3,  0,  1,  9,  0,  1,  2,  4,  0],\n",
       "       [ 0,  0,  0,  0,  0,  0,  0,  0,  0,  0,  0,  0,  0,  0,  0,  0,\n",
       "         0,  0,  0,  1,  3,  3,  0,  2,  8,  1,  1,  3,  2,  1],\n",
       "       [ 0,  0,  0,  0,  0,  0,  0,  0,  0,  0,  0,  0,  0,  0,  0,  0,\n",
       "         0,  0,  0,  0,  4,  0,  0,  1,  4,  3,  3,  5,  2,  4],\n",
       "       [ 0,  0,  0,  0,  0,  0,  0,  0,  0,  0,  0,  0,  0,  0,  0,  0,\n",
       "         0,  0,  0,  0,  2,  0,  0,  0,  4,  6,  7,  6,  1,  2],\n",
       "       [ 0,  0,  0,  0,  0,  0,  0,  0,  0,  0,  0,  0,  0,  0,  0,  0,\n",
       "         0,  0,  0,  0,  0,  0,  0,  0,  1, 12,  4,  5,  0,  5],\n",
       "       [ 0,  0,  0,  0,  0,  0,  0,  0,  0,  0,  0,  0,  0,  0,  0,  0,\n",
       "         0,  0,  0,  0,  0,  0,  0,  0,  2, 11,  3,  3,  1,  6],\n",
       "       [ 0,  0,  0,  0,  0,  0,  0,  0,  0,  0,  0,  0,  0,  0,  0,  0,\n",
       "         0,  0,  0,  0,  0,  0,  0,  0,  5, 12,  3,  2,  0,  3],\n",
       "       [ 0,  0,  0,  0,  0,  0,  0,  0,  0,  0,  0,  0,  0,  0,  0,  0,\n",
       "         0,  0,  0,  0,  0,  0,  0,  0,  4, 11,  6,  0,  0,  5]])"
      ]
     },
     "execution_count": 11,
     "metadata": {},
     "output_type": "execute_result"
    }
   ],
   "source": [
    "# Generate a confusion matrix for the model\n",
    "confusion_matrix(y_test, predictions)"
   ]
  },
  {
   "cell_type": "code",
   "execution_count": 12,
   "metadata": {},
   "outputs": [
    {
     "name": "stdout",
     "output_type": "stream",
     "text": [
      "              precision    recall  f1-score   support\n",
      "\n",
      "           1       0.96      1.00      0.98        25\n",
      "           2       1.00      0.96      0.98        24\n",
      "           3       1.00      1.00      1.00        22\n",
      "           4       1.00      1.00      1.00        25\n",
      "           5       1.00      1.00      1.00        19\n",
      "           6       0.80      1.00      0.89        28\n",
      "           7       1.00      0.72      0.84        25\n",
      "           8       0.93      0.89      0.91        28\n",
      "           9       0.58      0.56      0.57        27\n",
      "          10       0.38      0.43      0.40        21\n",
      "          11       0.67      0.35      0.46        23\n",
      "          12       0.19      0.23      0.21        26\n",
      "          13       0.20      0.42      0.27        26\n",
      "          14       0.17      0.12      0.14        26\n",
      "          15       0.14      0.12      0.13        26\n",
      "          16       0.14      0.14      0.14        28\n",
      "          17       0.13      0.09      0.11        22\n",
      "          18       0.21      0.21      0.21        28\n",
      "          19       0.00      0.00      0.00        23\n",
      "          20       0.24      0.17      0.20        23\n",
      "          21       0.23      0.22      0.22        23\n",
      "          22       0.25      0.07      0.11        27\n",
      "          23       0.00      0.00      0.00        22\n",
      "          24       0.50      0.08      0.14        25\n",
      "          25       0.05      0.15      0.08        26\n",
      "          26       0.11      0.21      0.14        28\n",
      "          27       0.14      0.15      0.15        27\n",
      "          28       0.12      0.12      0.12        26\n",
      "          29       0.00      0.00      0.00        25\n",
      "          30       0.19      0.19      0.19        26\n",
      "\n",
      "    accuracy                           0.38       750\n",
      "   macro avg       0.41      0.39      0.39       750\n",
      "weighted avg       0.40      0.38      0.38       750\n",
      "\n"
     ]
    },
    {
     "name": "stderr",
     "output_type": "stream",
     "text": [
      "/Users/natalia/anaconda3/envs/intro_python_requirements_osx/lib/python3.11/site-packages/sklearn/metrics/_classification.py:1318: UndefinedMetricWarning: Precision and F-score are ill-defined and being set to 0.0 in labels with no predicted samples. Use `zero_division` parameter to control this behavior.\n",
      "  _warn_prf(average, modifier, msg_start, len(result))\n",
      "/Users/natalia/anaconda3/envs/intro_python_requirements_osx/lib/python3.11/site-packages/sklearn/metrics/_classification.py:1318: UndefinedMetricWarning: Precision and F-score are ill-defined and being set to 0.0 in labels with no predicted samples. Use `zero_division` parameter to control this behavior.\n",
      "  _warn_prf(average, modifier, msg_start, len(result))\n",
      "/Users/natalia/anaconda3/envs/intro_python_requirements_osx/lib/python3.11/site-packages/sklearn/metrics/_classification.py:1318: UndefinedMetricWarning: Precision and F-score are ill-defined and being set to 0.0 in labels with no predicted samples. Use `zero_division` parameter to control this behavior.\n",
      "  _warn_prf(average, modifier, msg_start, len(result))\n"
     ]
    }
   ],
   "source": [
    "# Print the classification report for the model\n",
    "print(classification_report(y_test, predictions))"
   ]
  },
  {
   "cell_type": "markdown",
   "metadata": {},
   "source": [
    "### Other Predictions"
   ]
  },
  {
   "cell_type": "code",
   "execution_count": 16,
   "metadata": {},
   "outputs": [
    {
     "name": "stdout",
     "output_type": "stream",
     "text": [
      "Mean Squared Error: 54459130.528756365\n",
      "R-squared: 0.0022064295355311847\n"
     ]
    },
    {
     "data": {
      "image/png": "[encoded data removed]",
      "text/plain": [
       "<Figure size 640x480 with 1 Axes>"
      ]
     },
     "metadata": {},
     "output_type": "display_data"
    }
   ],
   "source": [
    "import pandas as pd\n",
    "from sklearn.model_selection import train_test_split\n",
    "from sklearn.linear_model import LinearRegression\n",
    "from sklearn.metrics import mean_squared_error, r2_score\n",
    "from sklearn.preprocessing import OneHotEncoder\n",
    "\n",
    "import matplotlib.pyplot as plt\n",
    "\n",
    "\n",
    "# Load the dataset\n",
    "data = pd.read_csv(\"../Resources/cleaned_df.csv\")\n",
    "\n",
    "# Data preprocessing (One-hot encoding for categorical variables)\n",
    "data = pd.get_dummies(data, columns=[\"Mode of Travel\", \"Stay\", \"Sex\", \"Nationality\"])\n",
    "\n",
    "# Select features and target\n",
    "X = data[[\"Duration\"]]\n",
    "y = data[\"Cost of Travel(Entire Trip) in Euros\"]\n",
    "\n",
    "# Split the data into training and testing sets\n",
    "X_train, X_test, y_train, y_test = train_test_split(X, y, test_size=0.2, random_state=42)\n",
    "\n",
    "# Create and train the linear regression model\n",
    "model = LinearRegression()\n",
    "model.fit(X_train, y_train)\n",
    "\n",
    "# Make predictions\n",
    "y_pred = model.predict(X_test)\n",
    "\n",
    "# Evaluate the model\n",
    "mse = mean_squared_error(y_test, y_pred)\n",
    "r2 = r2_score(y_test, y_pred)\n",
    "\n",
    "print(\"Mean Squared Error:\", mse)\n",
    "print(\"R-squared:\", r2)\n",
    "\n",
    "# Scatter plot of the data points\n",
    "plt.scatter(X_test, y_test, color='blue', label='Actual')\n",
    "\n",
    "# Plot the regression line\n",
    "plt.plot(X_test, y_pred, color='red', linewidth=2, label='Regression Line')\n",
    "\n",
    "# Set labels and title\n",
    "plt.xlabel(\"Duration\")\n",
    "plt.ylabel(\"Cost of Travel(Entire Trip)\")\n",
    "plt.title(\"Linear Regression Model\")\n",
    "\n",
    "# Display the legend\n",
    "plt.legend()\n",
    "\n",
    "# Save the plot to a PNG file\n",
    "plt.savefig(\"LinearRegressionModel.png\", dpi=300, bbox_inches='tight')\n",
    "\n",
    "# Show the plot\n",
    "plt.show()\n"
   ]
  },
  {
   "cell_type": "code",
   "execution_count": 17,
   "metadata": {},
   "outputs": [
    {
     "data": {
      "text/html": [
       "<div>\n",
       "<style scoped>\n",
       "    .dataframe tbody tr th:only-of-type {\n",
       "        vertical-align: middle;\n",
       "    }\n",
       "\n",
       "    .dataframe tbody tr th {\n",
       "        vertical-align: top;\n",
       "    }\n",
       "\n",
       "    .dataframe thead th {\n",
       "        text-align: right;\n",
       "    }\n",
       "</style>\n",
       "<table border=\"1\" class=\"dataframe\">\n",
       "  <thead>\n",
       "    <tr style=\"text-align: right;\">\n",
       "      <th></th>\n",
       "      <th>Duration</th>\n",
       "      <th>Cost of Travel(Entire Trip) in Euros</th>\n",
       "      <th>First Name</th>\n",
       "      <th>Last Name</th>\n",
       "      <th>Date of Birth</th>\n",
       "      <th>Address</th>\n",
       "      <th>Age</th>\n",
       "      <th>Date of Travel</th>\n",
       "      <th>Year</th>\n",
       "      <th>Month</th>\n",
       "      <th>...</th>\n",
       "      <th>Nationality_Uruguay</th>\n",
       "      <th>Nationality_Uzbekistan</th>\n",
       "      <th>Nationality_Vanuatu</th>\n",
       "      <th>Nationality_Venezuela</th>\n",
       "      <th>Nationality_Vietnam</th>\n",
       "      <th>Nationality_Wallis and Futuna</th>\n",
       "      <th>Nationality_Western Sahara</th>\n",
       "      <th>Nationality_Yemen</th>\n",
       "      <th>Nationality_Zambia</th>\n",
       "      <th>Nationality_Zimbabwe</th>\n",
       "    </tr>\n",
       "  </thead>\n",
       "  <tbody>\n",
       "    <tr>\n",
       "      <th>0</th>\n",
       "      <td>1</td>\n",
       "      <td>20111.0</td>\n",
       "      <td>Cristina</td>\n",
       "      <td>Fuentes</td>\n",
       "      <td>1914-06-14</td>\n",
       "      <td>5143 Pope Camp Apt. 028\\nLake Emily, UT 71371</td>\n",
       "      <td>74</td>\n",
       "      <td>2022-09-13</td>\n",
       "      <td>2022</td>\n",
       "      <td>9</td>\n",
       "      <td>...</td>\n",
       "      <td>False</td>\n",
       "      <td>False</td>\n",
       "      <td>False</td>\n",
       "      <td>False</td>\n",
       "      <td>False</td>\n",
       "      <td>False</td>\n",
       "      <td>False</td>\n",
       "      <td>False</td>\n",
       "      <td>False</td>\n",
       "      <td>False</td>\n",
       "    </tr>\n",
       "    <tr>\n",
       "      <th>1</th>\n",
       "      <td>5</td>\n",
       "      <td>29681.0</td>\n",
       "      <td>Patricia</td>\n",
       "      <td>Young</td>\n",
       "      <td>1923-09-25</td>\n",
       "      <td>716 Dominguez Row Suite 775\\nSouth Tiffanyboro...</td>\n",
       "      <td>19</td>\n",
       "      <td>2021-09-04</td>\n",
       "      <td>2021</td>\n",
       "      <td>9</td>\n",
       "      <td>...</td>\n",
       "      <td>False</td>\n",
       "      <td>False</td>\n",
       "      <td>False</td>\n",
       "      <td>False</td>\n",
       "      <td>False</td>\n",
       "      <td>False</td>\n",
       "      <td>False</td>\n",
       "      <td>False</td>\n",
       "      <td>False</td>\n",
       "      <td>False</td>\n",
       "    </tr>\n",
       "    <tr>\n",
       "      <th>2</th>\n",
       "      <td>7</td>\n",
       "      <td>24950.0</td>\n",
       "      <td>Christina</td>\n",
       "      <td>Kirby</td>\n",
       "      <td>1935-01-02</td>\n",
       "      <td>PSC 4600, Box 1237\\nAPO AE 32510</td>\n",
       "      <td>36</td>\n",
       "      <td>2021-01-25</td>\n",
       "      <td>2021</td>\n",
       "      <td>1</td>\n",
       "      <td>...</td>\n",
       "      <td>False</td>\n",
       "      <td>False</td>\n",
       "      <td>False</td>\n",
       "      <td>False</td>\n",
       "      <td>False</td>\n",
       "      <td>False</td>\n",
       "      <td>False</td>\n",
       "      <td>False</td>\n",
       "      <td>False</td>\n",
       "      <td>False</td>\n",
       "    </tr>\n",
       "    <tr>\n",
       "      <th>3</th>\n",
       "      <td>19</td>\n",
       "      <td>18676.0</td>\n",
       "      <td>Michael</td>\n",
       "      <td>Hudson</td>\n",
       "      <td>1982-04-21</td>\n",
       "      <td>7013 Bryant Club Suite 695\\nSouth Tina, WI 26739</td>\n",
       "      <td>38</td>\n",
       "      <td>2022-01-28</td>\n",
       "      <td>2022</td>\n",
       "      <td>1</td>\n",
       "      <td>...</td>\n",
       "      <td>False</td>\n",
       "      <td>False</td>\n",
       "      <td>False</td>\n",
       "      <td>False</td>\n",
       "      <td>False</td>\n",
       "      <td>False</td>\n",
       "      <td>False</td>\n",
       "      <td>False</td>\n",
       "      <td>False</td>\n",
       "      <td>False</td>\n",
       "    </tr>\n",
       "    <tr>\n",
       "      <th>4</th>\n",
       "      <td>28</td>\n",
       "      <td>18899.0</td>\n",
       "      <td>Francisco</td>\n",
       "      <td>Hensley</td>\n",
       "      <td>1913-06-29</td>\n",
       "      <td>074 Scott Brook Suite 700\\nLukeville, VA 46541</td>\n",
       "      <td>38</td>\n",
       "      <td>2021-10-21</td>\n",
       "      <td>2021</td>\n",
       "      <td>10</td>\n",
       "      <td>...</td>\n",
       "      <td>True</td>\n",
       "      <td>False</td>\n",
       "      <td>False</td>\n",
       "      <td>False</td>\n",
       "      <td>False</td>\n",
       "      <td>False</td>\n",
       "      <td>False</td>\n",
       "      <td>False</td>\n",
       "      <td>False</td>\n",
       "      <td>False</td>\n",
       "    </tr>\n",
       "  </tbody>\n",
       "</table>\n",
       "<p>5 rows × 270 columns</p>\n",
       "</div>"
      ],
      "text/plain": [
       "   Duration  Cost of Travel(Entire Trip) in Euros First Name Last Name   \n",
       "0         1                               20111.0   Cristina   Fuentes  \\\n",
       "1         5                               29681.0   Patricia     Young   \n",
       "2         7                               24950.0  Christina     Kirby   \n",
       "3        19                               18676.0    Michael    Hudson   \n",
       "4        28                               18899.0  Francisco   Hensley   \n",
       "\n",
       "  Date of Birth                                            Address  Age   \n",
       "0    1914-06-14      5143 Pope Camp Apt. 028\\nLake Emily, UT 71371   74  \\\n",
       "1    1923-09-25  716 Dominguez Row Suite 775\\nSouth Tiffanyboro...   19   \n",
       "2    1935-01-02                   PSC 4600, Box 1237\\nAPO AE 32510   36   \n",
       "3    1982-04-21   7013 Bryant Club Suite 695\\nSouth Tina, WI 26739   38   \n",
       "4    1913-06-29     074 Scott Brook Suite 700\\nLukeville, VA 46541   38   \n",
       "\n",
       "  Date of Travel  Year  Month  ...  Nationality_Uruguay   \n",
       "0     2022-09-13  2022      9  ...                False  \\\n",
       "1     2021-09-04  2021      9  ...                False   \n",
       "2     2021-01-25  2021      1  ...                False   \n",
       "3     2022-01-28  2022      1  ...                False   \n",
       "4     2021-10-21  2021     10  ...                 True   \n",
       "\n",
       "   Nationality_Uzbekistan  Nationality_Vanuatu  Nationality_Venezuela   \n",
       "0                   False                False                  False  \\\n",
       "1                   False                False                  False   \n",
       "2                   False                False                  False   \n",
       "3                   False                False                  False   \n",
       "4                   False                False                  False   \n",
       "\n",
       "   Nationality_Vietnam  Nationality_Wallis and Futuna   \n",
       "0                False                          False  \\\n",
       "1                False                          False   \n",
       "2                False                          False   \n",
       "3                False                          False   \n",
       "4                False                          False   \n",
       "\n",
       "   Nationality_Western Sahara  Nationality_Yemen  Nationality_Zambia   \n",
       "0                       False              False               False  \\\n",
       "1                       False              False               False   \n",
       "2                       False              False               False   \n",
       "3                       False              False               False   \n",
       "4                       False              False               False   \n",
       "\n",
       "   Nationality_Zimbabwe  \n",
       "0                 False  \n",
       "1                 False  \n",
       "2                 False  \n",
       "3                 False  \n",
       "4                 False  \n",
       "\n",
       "[5 rows x 270 columns]"
      ]
     },
     "execution_count": 17,
     "metadata": {},
     "output_type": "execute_result"
    }
   ],
   "source": [
    "# Review the DataFrame\n",
    "data.head()"
   ]
  },
  {
   "cell_type": "code",
   "execution_count": null,
   "metadata": {},
   "outputs": [],
   "source": [
    "# You can also use this model to make predictions for new data points\n",
    "# new_data = pd.DataFrame({\"Duration\": [10, 20, 30]})\n",
    "# new_predictions = model.predict(new_data)"
   ]
  },
  {
   "cell_type": "markdown",
   "metadata": {},
   "source": [
    "### Predict \"Duration\" based on \"Cost of Travel(Entire Trip)\":"
   ]
  },
  {
   "cell_type": "code",
   "execution_count": 18,
   "metadata": {},
   "outputs": [
    {
     "data": {
      "text/plain": [
       "LinearRegression()"
      ]
     },
     "execution_count": 18,
     "metadata": {},
     "output_type": "execute_result"
    }
   ],
   "source": [
    "import pandas as pd\n",
    "from sklearn.linear_model import LinearRegression\n",
    "\n",
    "# Load the dataset\n",
    "data = pd.read_csv(\"../Resources/cleaned_df.csv\")\n",
    "\n",
    "# Select features and target\n",
    "X_duration = data[[\"Cost of Travel(Entire Trip) in Euros\"]]\n",
    "y_duration = data[\"Duration\"]\n",
    "\n",
    "# Create and train the linear regression model\n",
    "duration_model = LinearRegression()\n",
    "duration_model.fit(X, y)\n"
   ]
  },
  {
   "cell_type": "code",
   "execution_count": 19,
   "metadata": {},
   "outputs": [
    {
     "name": "stderr",
     "output_type": "stream",
     "text": [
      "/Users/natalia/anaconda3/envs/intro_python_requirements_osx/lib/python3.11/site-packages/sklearn/base.py:493: FutureWarning: The feature names should match those that were passed during fit. Starting version 1.2, an error will be raised.\n",
      "Feature names unseen at fit time:\n",
      "- Cost of Travel(Entire Trip) in Euros\n",
      "Feature names seen at fit time, yet now missing:\n",
      "- Duration\n",
      "\n",
      "  warnings.warn(message, FutureWarning)\n"
     ]
    },
    {
     "data": {
      "image/png": "[encoded data removed]",
      "text/plain": [
       "<Figure size 640x480 with 1 Axes>"
      ]
     },
     "metadata": {},
     "output_type": "display_data"
    }
   ],
   "source": [
    "# Scatter plot of the data points for predicting Duration based on Cost\n",
    "plt.subplot(121)\n",
    "plt.scatter(X_duration, y_duration, color='blue', label='Actual')\n",
    "plt.plot(X_duration, duration_model.predict(X_duration), color='red', linewidth=2, label='Regression Line')\n",
    "plt.xlabel(\"Cost of Travel(Entire Trip)\")\n",
    "plt.ylabel(\"Duration\")\n",
    "plt.title(\"Duration vs. Cost\")\n",
    "plt.legend()\n",
    "\n",
    "# Adjust layout\n",
    "plt.tight_layout()\n",
    "\n",
    "# Save the plot to a PNG file\n",
    "plt.savefig(\"DurationvsCost.png\", dpi=300, bbox_inches='tight')\n",
    "\n",
    "# Show the plots\n",
    "plt.show()"
   ]
  },
  {
   "cell_type": "markdown",
   "metadata": {},
   "source": [
    "### Predict \"Cost of Travel(Entire Trip)\" based on \"Duration\":"
   ]
  },
  {
   "cell_type": "code",
   "execution_count": 21,
   "metadata": {},
   "outputs": [
    {
     "data": {
      "text/plain": [
       "LinearRegression()"
      ]
     },
     "execution_count": 21,
     "metadata": {},
     "output_type": "execute_result"
    }
   ],
   "source": [
    "import pandas as pd\n",
    "from sklearn.linear_model import LinearRegression\n",
    "\n",
    "# Load the dataset\n",
    "data = pd.read_csv(\"../Resources/cleaned_df.csv\")\n",
    "\n",
    "# Select features and target\n",
    "X_cost = data[[\"Duration\"]]\n",
    "y_cost = data[\"Cost of Travel(Entire Trip) in Euros\"]\n",
    "\n",
    "# Create and train the linear regression model\n",
    "cost_model = LinearRegression()\n",
    "cost_model.fit(X, y)\n"
   ]
  },
  {
   "cell_type": "code",
   "execution_count": 22,
   "metadata": {},
   "outputs": [
    {
     "data": {
      "image/png": "[encoded data removed]",
      "text/plain": [
       "<Figure size 640x480 with 1 Axes>"
      ]
     },
     "metadata": {},
     "output_type": "display_data"
    }
   ],
   "source": [
    "# Scatter plot of the data points for predicting Cost based on Duration\n",
    "plt.subplot(122)\n",
    "plt.scatter(X_cost, y_cost, color='green', label='Actual')\n",
    "plt.plot(X_cost, cost_model.predict(X_cost), color='orange', linewidth=2, label='Regression Line')\n",
    "plt.xlabel(\"Duration\")\n",
    "plt.ylabel(\"Cost of Travel(Entire Trip)\")\n",
    "plt.title(\"Cost vs. Duration\")\n",
    "plt.legend()\n",
    "\n",
    "# Adjust layout\n",
    "plt.tight_layout()\n",
    "\n",
    "# Save the plot to a PNG file\n",
    "plt.savefig(\"CostvsDuration.png\", dpi=300, bbox_inches='tight')\n",
    "\n",
    "# Show the plots\n",
    "plt.show()"
   ]
  },
  {
   "cell_type": "markdown",
   "metadata": {},
   "source": [
    "### Predict the price of a X-day stay using a linear regression model."
   ]
  },
  {
   "cell_type": "code",
   "execution_count": 23,
   "metadata": {},
   "outputs": [
    {
     "name": "stdout",
     "output_type": "stream",
     "text": [
      "Predicted Cost for a 25-day stay: $17475.93\n"
     ]
    },
    {
     "name": "stderr",
     "output_type": "stream",
     "text": [
      "/Users/natalia/anaconda3/envs/intro_python_requirements_osx/lib/python3.11/site-packages/sklearn/base.py:450: UserWarning: X does not have valid feature names, but LinearRegression was fitted with feature names\n",
      "  warnings.warn(\n"
     ]
    }
   ],
   "source": [
    "# Assuming the cost_model is already trained\n",
    "# Replace 'your_duration_value' with the duration of X days for prediction\n",
    "duration_input = [[25]]\n",
    "\n",
    "# Predict the cost for a 25-day stay\n",
    "predicted_cost = cost_model.predict(duration_input)\n",
    "\n",
    "print(f\"Predicted Cost for a 25-day stay: ${predicted_cost[0]:.2f}\")\n"
   ]
  },
  {
   "cell_type": "markdown",
   "metadata": {},
   "source": [
    "### Result summary:\n",
    "\n",
    "The dataset is synthetic so the data is randomized and is causing the accuracy to be uniform across variables, making it difficult to increase the accuracy and make better predictions."
   ]
  }
 ],
 "metadata": {
  "kernelspec": {
   "display_name": "intro_python_requirements_osx",
   "language": "python",
   "name": "python3"
  },
  "language_info": {
   "codemirror_mode": {
    "name": "ipython",
    "version": 3
   },
   "file_extension": ".py",
   "mimetype": "text/x-python",
   "name": "python",
   "nbconvert_exporter": "python",
   "pygments_lexer": "ipython3",
   "version": "3.11.3"
  }
 },
 "nbformat": 4,
 "nbformat_minor": 2
}
