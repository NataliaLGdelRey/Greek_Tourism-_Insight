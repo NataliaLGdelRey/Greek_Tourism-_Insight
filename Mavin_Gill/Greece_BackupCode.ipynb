{
 "cells": [
  {
   "cell_type": "code",
   "execution_count": 246,
   "metadata": {},
   "outputs": [],
   "source": [
    "# Import the modules\n",
    "import numpy as np\n",
    "import pandas as pd\n",
    "import matplotlib.pyplot as plt\n",
    "\n",
    "from pathlib import Path\n",
    "from sklearn.metrics import confusion_matrix, classification_report\n",
    "\n",
    "from sklearn.model_selection import train_test_split"
   ]
  },
  {
   "cell_type": "code",
   "execution_count": 247,
   "metadata": {},
   "outputs": [
    {
     "data": {
      "text/html": [
       "<div>\n",
       "<style scoped>\n",
       "    .dataframe tbody tr th:only-of-type {\n",
       "        vertical-align: middle;\n",
       "    }\n",
       "\n",
       "    .dataframe tbody tr th {\n",
       "        vertical-align: top;\n",
       "    }\n",
       "\n",
       "    .dataframe thead th {\n",
       "        text-align: right;\n",
       "    }\n",
       "</style>\n",
       "<table border=\"1\" class=\"dataframe\">\n",
       "  <thead>\n",
       "    <tr style=\"text-align: right;\">\n",
       "      <th></th>\n",
       "      <th>Trip #no.</th>\n",
       "      <th>Duration</th>\n",
       "      <th>Cost of Travel(Entire Trip)</th>\n",
       "      <th>Mode of Travel</th>\n",
       "      <th>Stay</th>\n",
       "      <th>First Name</th>\n",
       "      <th>Last Name</th>\n",
       "      <th>Date of Birth</th>\n",
       "      <th>Address</th>\n",
       "      <th>Age</th>\n",
       "      <th>Sex</th>\n",
       "      <th>Nationality</th>\n",
       "      <th>Date of Travel</th>\n",
       "    </tr>\n",
       "  </thead>\n",
       "  <tbody>\n",
       "    <tr>\n",
       "      <th>0</th>\n",
       "      <td>55</td>\n",
       "      <td>1</td>\n",
       "      <td>20111</td>\n",
       "      <td>Flight</td>\n",
       "      <td>Hotel</td>\n",
       "      <td>Cristina</td>\n",
       "      <td>Fuentes</td>\n",
       "      <td>6/14/14</td>\n",
       "      <td>5143 Pope Camp Apt. 028\\nLake Emily, UT 71371</td>\n",
       "      <td>74</td>\n",
       "      <td>Non-Binary</td>\n",
       "      <td>Lao People's Democratic Republic</td>\n",
       "      <td>9/13/22</td>\n",
       "    </tr>\n",
       "    <tr>\n",
       "      <th>1</th>\n",
       "      <td>288</td>\n",
       "      <td>5</td>\n",
       "      <td>29681</td>\n",
       "      <td>Car</td>\n",
       "      <td>Hotel</td>\n",
       "      <td>Patricia</td>\n",
       "      <td>Young</td>\n",
       "      <td>9/25/23</td>\n",
       "      <td>716 Dominguez Row Suite 775\\nSouth Tiffanyboro...</td>\n",
       "      <td>19</td>\n",
       "      <td>Female</td>\n",
       "      <td>Gabon</td>\n",
       "      <td>9/4/21</td>\n",
       "    </tr>\n",
       "    <tr>\n",
       "      <th>2</th>\n",
       "      <td>291</td>\n",
       "      <td>7</td>\n",
       "      <td>24950</td>\n",
       "      <td>Flight</td>\n",
       "      <td>Airbnb</td>\n",
       "      <td>Christina</td>\n",
       "      <td>Kirby</td>\n",
       "      <td>1/2/35</td>\n",
       "      <td>PSC 4600, Box 1237\\nAPO AE 32510</td>\n",
       "      <td>36</td>\n",
       "      <td>Female</td>\n",
       "      <td>Syrian Arab Republic</td>\n",
       "      <td>1/25/21</td>\n",
       "    </tr>\n",
       "    <tr>\n",
       "      <th>3</th>\n",
       "      <td>131</td>\n",
       "      <td>19</td>\n",
       "      <td>18676</td>\n",
       "      <td>Roadtrip</td>\n",
       "      <td>Airbnb</td>\n",
       "      <td>Michael</td>\n",
       "      <td>Hudson</td>\n",
       "      <td>4/21/82</td>\n",
       "      <td>7013 Bryant Club Suite 695\\nSouth Tina, WI 26739</td>\n",
       "      <td>38</td>\n",
       "      <td>Non-Binary</td>\n",
       "      <td>Afghanistan</td>\n",
       "      <td>1/28/22</td>\n",
       "    </tr>\n",
       "    <tr>\n",
       "      <th>4</th>\n",
       "      <td>281</td>\n",
       "      <td>28</td>\n",
       "      <td>18899</td>\n",
       "      <td>Flight</td>\n",
       "      <td>Airbnb</td>\n",
       "      <td>Francisco</td>\n",
       "      <td>Hensley</td>\n",
       "      <td>6/29/13</td>\n",
       "      <td>074 Scott Brook Suite 700\\nLukeville, VA 46541</td>\n",
       "      <td>38</td>\n",
       "      <td>Non-Binary</td>\n",
       "      <td>Uruguay</td>\n",
       "      <td>10/21/21</td>\n",
       "    </tr>\n",
       "  </tbody>\n",
       "</table>\n",
       "</div>"
      ],
      "text/plain": [
       "   Trip #no.  Duration  Cost of Travel(Entire Trip) Mode of Travel    Stay  \\\n",
       "0         55         1                        20111         Flight   Hotel   \n",
       "1        288         5                        29681            Car   Hotel   \n",
       "2        291         7                        24950         Flight  Airbnb   \n",
       "3        131        19                        18676       Roadtrip  Airbnb   \n",
       "4        281        28                        18899         Flight  Airbnb   \n",
       "\n",
       "  First Name Last Name Date of Birth  \\\n",
       "0   Cristina   Fuentes       6/14/14   \n",
       "1   Patricia     Young       9/25/23   \n",
       "2  Christina     Kirby        1/2/35   \n",
       "3    Michael    Hudson       4/21/82   \n",
       "4  Francisco   Hensley       6/29/13   \n",
       "\n",
       "                                             Address  Age         Sex  \\\n",
       "0      5143 Pope Camp Apt. 028\\nLake Emily, UT 71371   74  Non-Binary   \n",
       "1  716 Dominguez Row Suite 775\\nSouth Tiffanyboro...   19      Female   \n",
       "2                   PSC 4600, Box 1237\\nAPO AE 32510   36      Female   \n",
       "3   7013 Bryant Club Suite 695\\nSouth Tina, WI 26739   38  Non-Binary   \n",
       "4     074 Scott Brook Suite 700\\nLukeville, VA 46541   38  Non-Binary   \n",
       "\n",
       "                        Nationality Date of Travel  \n",
       "0  Lao People's Democratic Republic        9/13/22  \n",
       "1                             Gabon         9/4/21  \n",
       "2              Syrian Arab Republic        1/25/21  \n",
       "3                       Afghanistan        1/28/22  \n",
       "4                           Uruguay       10/21/21  "
      ]
     },
     "execution_count": 247,
     "metadata": {},
     "output_type": "execute_result"
    }
   ],
   "source": [
    "# Provide the file path to your local dataset\n",
    "file_path = \"/Users/mavingill/Downloads/Greece_Travel_Data/travel_tourism_dataset.csv\"\n",
    "\n",
    "# Load the dataset from the specified file\n",
    "greece_travel_data = pd.read_csv(file_path)\n",
    "\n",
    "# Display the first few rows of the dataset\n",
    "greece_travel_data.head()"
   ]
  },
  {
   "cell_type": "code",
   "execution_count": 248,
   "metadata": {},
   "outputs": [
    {
     "data": {
      "text/plain": [
       "(3000, 13)"
      ]
     },
     "execution_count": 248,
     "metadata": {},
     "output_type": "execute_result"
    }
   ],
   "source": [
    "# Review the DataFrame\n",
    "greece_travel_data.shape"
   ]
  },
  {
   "cell_type": "code",
   "execution_count": 249,
   "metadata": {},
   "outputs": [
    {
     "name": "stdout",
     "output_type": "stream",
     "text": [
      "Mode of Travel\n",
      "Car         551\n",
      "Bus         516\n",
      "Cruise      501\n",
      "Train       498\n",
      "Roadtrip    473\n",
      "Flight      461\n",
      "Name: count, dtype: int64\n"
     ]
    }
   ],
   "source": [
    "# Review the DataFrame: Mode of Travel\n",
    "unique_modes_of_travel = greece_travel_data['Mode of Travel'].value_counts()\n",
    "print(unique_modes_of_travel)"
   ]
  },
  {
   "cell_type": "code",
   "execution_count": 250,
   "metadata": {},
   "outputs": [
    {
     "name": "stdout",
     "output_type": "stream",
     "text": [
      "Date of Travel\n",
      "7/7/23     9\n",
      "9/20/20    8\n",
      "1/29/20    8\n",
      "9/7/22     8\n",
      "3/3/22     8\n",
      "          ..\n",
      "3/31/21    1\n",
      "7/12/20    1\n",
      "2/15/22    1\n",
      "3/20/22    1\n",
      "6/19/21    1\n",
      "Name: count, Length: 1194, dtype: int64\n"
     ]
    }
   ],
   "source": [
    "# Review the DataFrame: Dates\n",
    "dates = greece_travel_data['Date of Travel'].value_counts().sort_values(ascending=False)\n",
    "print(dates)\n",
    "\n",
    "# From June 2021 to July 2023"
   ]
  },
  {
   "cell_type": "code",
   "execution_count": 251,
   "metadata": {},
   "outputs": [],
   "source": [
    "#Explore the datagrem: Date of Travel\n",
    "grouped_date = greece_travel_data.groupby('Date of Travel')"
   ]
  },
  {
   "cell_type": "code",
   "execution_count": 252,
   "metadata": {},
   "outputs": [
    {
     "name": "stdout",
     "output_type": "stream",
     "text": [
      "Date of Travel\n",
      "1/1/21     5\n",
      "1/1/22     2\n",
      "1/1/23     3\n",
      "1/10/20    2\n",
      "1/10/21    7\n",
      "          ..\n",
      "9/8/21     2\n",
      "9/8/22     1\n",
      "9/9/20     2\n",
      "9/9/21     4\n",
      "9/9/22     5\n",
      "Length: 1194, dtype: int64\n"
     ]
    }
   ],
   "source": [
    "date_counts = grouped_date.size()\n",
    "print(date_counts)"
   ]
  },
  {
   "cell_type": "code",
   "execution_count": 253,
   "metadata": {},
   "outputs": [
    {
     "name": "stderr",
     "output_type": "stream",
     "text": [
      "/var/folders/_8/6yz20cqn3h916cl84cktrsn40000gn/T/ipykernel_56294/3393026008.py:2: UserWarning: Could not infer format, so each element will be parsed individually, falling back to `dateutil`. To ensure parsing is consistent and as-expected, please specify a format.\n",
      "  greece_travel_data['Date of Travel'] = pd.to_datetime(greece_travel_data['Date of Travel'])\n"
     ]
    },
    {
     "data": {
      "image/png": "[encoded data removed]",
      "text/plain": [
       "<Figure size 1000x600 with 1 Axes>"
      ]
     },
     "metadata": {},
     "output_type": "display_data"
    }
   ],
   "source": [
    "# Change 'Date of Travel' column in datetime format\n",
    "greece_travel_data['Date of Travel'] = pd.to_datetime(greece_travel_data['Date of Travel'])\n",
    "\n",
    "# Create a new column 'Month' to store the month information\n",
    "greece_travel_data['Month'] = greece_travel_data['Date of Travel'].dt.strftime('%Y-%m')\n",
    "\n",
    "# Group the data by month and count the occurrences\n",
    "monthly_counts = greece_travel_data['Month'].value_counts().sort_index()\n",
    "\n",
    "# Create a plot\n",
    "plt.figure(figsize=(10, 6))\n",
    "monthly_counts.plot(kind='bar', color='blue')\n",
    "plt.title('Count of Travel by Month')\n",
    "plt.xlabel('Month')\n",
    "plt.ylabel('Count')\n",
    "plt.xticks(rotation=45)\n",
    "plt.show()"
   ]
  },
  {
   "cell_type": "code",
   "execution_count": 254,
   "metadata": {},
   "outputs": [],
   "source": [
    "# Explore Mode of Travel\n",
    "grouped_travelmode = greece_travel_data.groupby('Mode of Travel')"
   ]
  },
  {
   "cell_type": "code",
   "execution_count": 255,
   "metadata": {},
   "outputs": [
    {
     "name": "stdout",
     "output_type": "stream",
     "text": [
      "Mode of Travel\n",
      "Bus         516\n",
      "Car         551\n",
      "Cruise      501\n",
      "Flight      461\n",
      "Roadtrip    473\n",
      "Train       498\n",
      "dtype: int64\n"
     ]
    }
   ],
   "source": [
    "travelmode_counts = grouped_travelmode.size()\n",
    "print(travelmode_counts)"
   ]
  },
  {
   "cell_type": "code",
   "execution_count": 256,
   "metadata": {},
   "outputs": [
    {
     "data": {
      "image/png": "[encoded data removed]",
      "text/plain": [
       "<Figure size 1000x600 with 1 Axes>"
      ]
     },
     "metadata": {},
     "output_type": "display_data"
    }
   ],
   "source": [
    "# Create a plot\n",
    "plt.figure(figsize=(10, 6))\n",
    "travelmode_counts.plot(kind='bar', color='blue')\n",
    "plt.title('Count by Mode of Travel')\n",
    "plt.xlabel('Mode of Travel')\n",
    "plt.ylabel('Count')\n",
    "plt.xticks(rotation=45)\n",
    "plt.show()"
   ]
  },
  {
   "cell_type": "code",
   "execution_count": 257,
   "metadata": {},
   "outputs": [
    {
     "data": {
      "text/plain": [
       "<Figure size 1200x600 with 0 Axes>"
      ]
     },
     "metadata": {},
     "output_type": "display_data"
    },
    {
     "data": {
      "image/png": "[encoded data removed]",
      "text/plain": [
       "<Figure size 640x480 with 1 Axes>"
      ]
     },
     "metadata": {},
     "output_type": "display_data"
    }
   ],
   "source": [
    "import pandas as pd\n",
    "import matplotlib.pyplot as plt\n",
    "\n",
    "# Assuming your 'Date of Travel' column is not in datetime format\n",
    "greece_travel_data['Date of Travel'] = pd.to_datetime(greece_travel_data['Date of Travel'])\n",
    "\n",
    "# Create a new column 'Month' to store the month information\n",
    "greece_travel_data['Month'] = greece_travel_data['Date of Travel'].dt.strftime('%Y-%m')\n",
    "\n",
    "# Group the data by 'Month' and 'Mode of Travel', and count the occurrences\n",
    "monthly_mode_counts = greece_travel_data.groupby(['Month', 'Mode of Travel']).size().unstack(fill_value=0)\n",
    "\n",
    "# Create a plot\n",
    "plt.figure(figsize=(12, 6))\n",
    "monthly_mode_counts.plot(kind='bar', stacked=True)\n",
    "plt.title('Mode of Travel by Month')\n",
    "plt.xlabel('Month')\n",
    "plt.ylabel('Count')\n",
    "plt.xticks(rotation=45)\n",
    "plt.legend(title='Mode of Travel')\n",
    "plt.show()"
   ]
  },
  {
   "cell_type": "code",
   "execution_count": 258,
   "metadata": {},
   "outputs": [
    {
     "data": {
      "text/plain": [
       "<Figure size 1200x600 with 0 Axes>"
      ]
     },
     "metadata": {},
     "output_type": "display_data"
    },
    {
     "data": {
      "image/png": "[encoded data removed]",
      "text/plain": [
       "<Figure size 640x480 with 1 Axes>"
      ]
     },
     "metadata": {},
     "output_type": "display_data"
    }
   ],
   "source": [
    "# Assuming your 'Date of Travel' column is not in datetime format\n",
    "greece_travel_data['Date of Travel'] = pd.to_datetime(greece_travel_data['Date of Travel'])\n",
    "\n",
    "# Create a new column 'Month' to store the month information\n",
    "greece_travel_data['Month'] = greece_travel_data['Date of Travel'].dt.strftime('%Y-%m')\n",
    "\n",
    "# Filter the DataFrame to include only certain modes of travel\n",
    "modes_to_display = ['Bus', 'Car', 'Roadtrip']  # Replace with the modes you want to display\n",
    "filtered_df = greece_travel_data[greece_travel_data['Mode of Travel'].isin(modes_to_display)]\n",
    "\n",
    "# Group the filtered data by 'Month' and 'Mode of Travel', and count the occurrences\n",
    "monthly_mode_counts = filtered_df.groupby(['Month', 'Mode of Travel']).size().unstack(fill_value=0)\n",
    "\n",
    "# Create a plot\n",
    "plt.figure(figsize=(12, 6))\n",
    "monthly_mode_counts.plot(kind='bar', stacked=True)\n",
    "plt.title('Mode of Travel by Month')\n",
    "plt.xlabel('Month')\n",
    "plt.ylabel('Count')\n",
    "plt.xticks(rotation=45)\n",
    "plt.legend(title='Mode of Travel')\n",
    "plt.show()"
   ]
  },
  {
   "cell_type": "code",
   "execution_count": 259,
   "metadata": {},
   "outputs": [
    {
     "data": {
      "text/plain": [
       "<Figure size 2400x1200 with 0 Axes>"
      ]
     },
     "metadata": {},
     "output_type": "display_data"
    },
    {
     "data": {
      "image/png": "[encoded data removed]",
      "text/plain": [
       "<Figure size 640x480 with 1 Axes>"
      ]
     },
     "metadata": {},
     "output_type": "display_data"
    }
   ],
   "source": [
    "# Assuming your 'Date of Travel' column is not in datetime format\n",
    "greece_travel_data['Date of Travel'] = pd.to_datetime(greece_travel_data['Date of Travel'])\n",
    "\n",
    "# Create a new column 'Month' to store the month information\n",
    "greece_travel_data['Month'] = greece_travel_data['Date of Travel'].dt.strftime('%Y-%m')\n",
    "\n",
    "# Filter the DataFrame to include only certain modes of travel\n",
    "modes_to_display = ['Car', 'Roadtrip']  # Replace with the modes you want to display\n",
    "filtered_df = greece_travel_data[greece_travel_data['Mode of Travel'].isin(modes_to_display)]\n",
    "\n",
    "# Pivot the filtered data to create separate columns for each mode\n",
    "monthly_mode_counts = filtered_df.pivot_table(index='Month', columns='Mode of Travel', aggfunc='size', fill_value=0)\n",
    "\n",
    "# Create a plot\n",
    "plt.figure(figsize=(24, 12))\n",
    "monthly_mode_counts.plot(kind='bar')\n",
    "plt.title('Mode of Travel by Month')\n",
    "plt.xlabel('Month')\n",
    "plt.ylabel('Count')\n",
    "plt.xticks(rotation=45)\n",
    "plt.legend(title='Mode of Travel')\n",
    "plt.show()"
   ]
  },
  {
   "cell_type": "code",
   "execution_count": 260,
   "metadata": {},
   "outputs": [
    {
     "data": {
      "text/plain": [
       "<Figure size 2400x1200 with 0 Axes>"
      ]
     },
     "metadata": {},
     "output_type": "display_data"
    },
    {
     "data": {
      "image/png": "[encoded data removed]",
      "text/plain": [
       "<Figure size 640x480 with 1 Axes>"
      ]
     },
     "metadata": {},
     "output_type": "display_data"
    }
   ],
   "source": [
    "# Assuming your 'Date of Travel' column is not in datetime format\n",
    "greece_travel_data['Date of Travel'] = pd.to_datetime(greece_travel_data['Date of Travel'])\n",
    "\n",
    "# Create a new column 'Month' to store the month information\n",
    "greece_travel_data['Month'] = greece_travel_data['Date of Travel'].dt.strftime('%Y-%m')\n",
    "\n",
    "# Filter the DataFrame to include only certain modes of travel\n",
    "modes_to_display = ['Car']  # Replace with the modes you want to display\n",
    "filtered_df = greece_travel_data[greece_travel_data['Mode of Travel'].isin(modes_to_display)]\n",
    "\n",
    "# Pivot the filtered data to create separate columns for each mode\n",
    "monthly_mode_counts = filtered_df.pivot_table(index='Month', columns='Mode of Travel', aggfunc='size', fill_value=0)\n",
    "\n",
    "# Create a plot\n",
    "plt.figure(figsize=(24, 12))\n",
    "monthly_mode_counts.plot(kind='bar')\n",
    "plt.title('Mode of Travel by Month')\n",
    "plt.xlabel('Month')\n",
    "plt.ylabel('Count')\n",
    "plt.xticks(rotation=45)\n",
    "plt.legend(title='Mode of Travel')\n",
    "plt.show()"
   ]
  },
  {
   "cell_type": "code",
   "execution_count": 261,
   "metadata": {},
   "outputs": [
    {
     "name": "stdout",
     "output_type": "stream",
     "text": [
      "Stay\n",
      "Other      787\n",
      "Airbnb     786\n",
      "Hotel      724\n",
      "Resorts    703\n",
      "Name: count, dtype: int64\n"
     ]
    }
   ],
   "source": [
    "# Explore Stay\n",
    "unique_stay = greece_travel_data['Stay'].value_counts()\n",
    "print(unique_stay)"
   ]
  },
  {
   "cell_type": "code",
   "execution_count": 262,
   "metadata": {},
   "outputs": [],
   "source": [
    "# Separate the data into labels and features\n",
    "\n",
    "# Separate the y variable, the labels\n",
    "y = greece_travel_data['Stay']\n",
    "\n",
    "# Separate the X variable, the features\n",
    "X = greece_travel_data.drop(\"Stay\", axis=1)"
   ]
  },
  {
   "cell_type": "code",
   "execution_count": 263,
   "metadata": {},
   "outputs": [
    {
     "data": {
      "text/plain": [
       "0     Hotel\n",
       "1     Hotel\n",
       "2    Airbnb\n",
       "3    Airbnb\n",
       "4    Airbnb\n",
       "Name: Stay, dtype: object"
      ]
     },
     "execution_count": 263,
     "metadata": {},
     "output_type": "execute_result"
    }
   ],
   "source": [
    "# Review the y variable Series\n",
    "y[:5]"
   ]
  },
  {
   "cell_type": "code",
   "execution_count": 264,
   "metadata": {},
   "outputs": [
    {
     "data": {
      "text/html": [
       "<div>\n",
       "<style scoped>\n",
       "    .dataframe tbody tr th:only-of-type {\n",
       "        vertical-align: middle;\n",
       "    }\n",
       "\n",
       "    .dataframe tbody tr th {\n",
       "        vertical-align: top;\n",
       "    }\n",
       "\n",
       "    .dataframe thead th {\n",
       "        text-align: right;\n",
       "    }\n",
       "</style>\n",
       "<table border=\"1\" class=\"dataframe\">\n",
       "  <thead>\n",
       "    <tr style=\"text-align: right;\">\n",
       "      <th></th>\n",
       "      <th>Trip #no.</th>\n",
       "      <th>Duration</th>\n",
       "      <th>Cost of Travel(Entire Trip)</th>\n",
       "      <th>Mode of Travel</th>\n",
       "      <th>First Name</th>\n",
       "      <th>Last Name</th>\n",
       "      <th>Date of Birth</th>\n",
       "      <th>Address</th>\n",
       "      <th>Age</th>\n",
       "      <th>Sex</th>\n",
       "      <th>Nationality</th>\n",
       "      <th>Date of Travel</th>\n",
       "      <th>Month</th>\n",
       "    </tr>\n",
       "  </thead>\n",
       "  <tbody>\n",
       "    <tr>\n",
       "      <th>0</th>\n",
       "      <td>55</td>\n",
       "      <td>1</td>\n",
       "      <td>20111</td>\n",
       "      <td>Flight</td>\n",
       "      <td>Cristina</td>\n",
       "      <td>Fuentes</td>\n",
       "      <td>6/14/14</td>\n",
       "      <td>5143 Pope Camp Apt. 028\\nLake Emily, UT 71371</td>\n",
       "      <td>74</td>\n",
       "      <td>Non-Binary</td>\n",
       "      <td>Lao People's Democratic Republic</td>\n",
       "      <td>2022-09-13</td>\n",
       "      <td>2022-09</td>\n",
       "    </tr>\n",
       "    <tr>\n",
       "      <th>1</th>\n",
       "      <td>288</td>\n",
       "      <td>5</td>\n",
       "      <td>29681</td>\n",
       "      <td>Car</td>\n",
       "      <td>Patricia</td>\n",
       "      <td>Young</td>\n",
       "      <td>9/25/23</td>\n",
       "      <td>716 Dominguez Row Suite 775\\nSouth Tiffanyboro...</td>\n",
       "      <td>19</td>\n",
       "      <td>Female</td>\n",
       "      <td>Gabon</td>\n",
       "      <td>2021-09-04</td>\n",
       "      <td>2021-09</td>\n",
       "    </tr>\n",
       "    <tr>\n",
       "      <th>2</th>\n",
       "      <td>291</td>\n",
       "      <td>7</td>\n",
       "      <td>24950</td>\n",
       "      <td>Flight</td>\n",
       "      <td>Christina</td>\n",
       "      <td>Kirby</td>\n",
       "      <td>1/2/35</td>\n",
       "      <td>PSC 4600, Box 1237\\nAPO AE 32510</td>\n",
       "      <td>36</td>\n",
       "      <td>Female</td>\n",
       "      <td>Syrian Arab Republic</td>\n",
       "      <td>2021-01-25</td>\n",
       "      <td>2021-01</td>\n",
       "    </tr>\n",
       "    <tr>\n",
       "      <th>3</th>\n",
       "      <td>131</td>\n",
       "      <td>19</td>\n",
       "      <td>18676</td>\n",
       "      <td>Roadtrip</td>\n",
       "      <td>Michael</td>\n",
       "      <td>Hudson</td>\n",
       "      <td>4/21/82</td>\n",
       "      <td>7013 Bryant Club Suite 695\\nSouth Tina, WI 26739</td>\n",
       "      <td>38</td>\n",
       "      <td>Non-Binary</td>\n",
       "      <td>Afghanistan</td>\n",
       "      <td>2022-01-28</td>\n",
       "      <td>2022-01</td>\n",
       "    </tr>\n",
       "    <tr>\n",
       "      <th>4</th>\n",
       "      <td>281</td>\n",
       "      <td>28</td>\n",
       "      <td>18899</td>\n",
       "      <td>Flight</td>\n",
       "      <td>Francisco</td>\n",
       "      <td>Hensley</td>\n",
       "      <td>6/29/13</td>\n",
       "      <td>074 Scott Brook Suite 700\\nLukeville, VA 46541</td>\n",
       "      <td>38</td>\n",
       "      <td>Non-Binary</td>\n",
       "      <td>Uruguay</td>\n",
       "      <td>2021-10-21</td>\n",
       "      <td>2021-10</td>\n",
       "    </tr>\n",
       "  </tbody>\n",
       "</table>\n",
       "</div>"
      ],
      "text/plain": [
       "   Trip #no.  Duration  Cost of Travel(Entire Trip) Mode of Travel First Name  \\\n",
       "0         55         1                        20111         Flight   Cristina   \n",
       "1        288         5                        29681            Car   Patricia   \n",
       "2        291         7                        24950         Flight  Christina   \n",
       "3        131        19                        18676       Roadtrip    Michael   \n",
       "4        281        28                        18899         Flight  Francisco   \n",
       "\n",
       "  Last Name Date of Birth                                            Address  \\\n",
       "0   Fuentes       6/14/14      5143 Pope Camp Apt. 028\\nLake Emily, UT 71371   \n",
       "1     Young       9/25/23  716 Dominguez Row Suite 775\\nSouth Tiffanyboro...   \n",
       "2     Kirby        1/2/35                   PSC 4600, Box 1237\\nAPO AE 32510   \n",
       "3    Hudson       4/21/82   7013 Bryant Club Suite 695\\nSouth Tina, WI 26739   \n",
       "4   Hensley       6/29/13     074 Scott Brook Suite 700\\nLukeville, VA 46541   \n",
       "\n",
       "   Age         Sex                       Nationality Date of Travel    Month  \n",
       "0   74  Non-Binary  Lao People's Democratic Republic     2022-09-13  2022-09  \n",
       "1   19      Female                             Gabon     2021-09-04  2021-09  \n",
       "2   36      Female              Syrian Arab Republic     2021-01-25  2021-01  \n",
       "3   38  Non-Binary                       Afghanistan     2022-01-28  2022-01  \n",
       "4   38  Non-Binary                           Uruguay     2021-10-21  2021-10  "
      ]
     },
     "execution_count": 264,
     "metadata": {},
     "output_type": "execute_result"
    }
   ],
   "source": [
    "# Review the X variable DataFrame\n",
    "X.head()"
   ]
  },
  {
   "cell_type": "code",
   "execution_count": 265,
   "metadata": {},
   "outputs": [
    {
     "data": {
      "text/plain": [
       "Stay\n",
       "Other      787\n",
       "Airbnb     786\n",
       "Hotel      724\n",
       "Resorts    703\n",
       "Name: count, dtype: int64"
      ]
     },
     "execution_count": 265,
     "metadata": {},
     "output_type": "execute_result"
    }
   ],
   "source": [
    "# Check the balance of target values\n",
    "y.value_counts()"
   ]
  },
  {
   "cell_type": "code",
   "execution_count": 266,
   "metadata": {},
   "outputs": [
    {
     "data": {
      "text/html": [
       "<div>\n",
       "<style scoped>\n",
       "    .dataframe tbody tr th:only-of-type {\n",
       "        vertical-align: middle;\n",
       "    }\n",
       "\n",
       "    .dataframe tbody tr th {\n",
       "        vertical-align: top;\n",
       "    }\n",
       "\n",
       "    .dataframe thead th {\n",
       "        text-align: right;\n",
       "    }\n",
       "</style>\n",
       "<table border=\"1\" class=\"dataframe\">\n",
       "  <thead>\n",
       "    <tr style=\"text-align: right;\">\n",
       "      <th></th>\n",
       "      <th>Duration</th>\n",
       "      <th>Cost of Travel(Entire Trip) in Euros</th>\n",
       "      <th>Mode of Travel</th>\n",
       "      <th>Stay</th>\n",
       "      <th>First Name</th>\n",
       "      <th>Last Name</th>\n",
       "      <th>Date of Birth</th>\n",
       "      <th>Address</th>\n",
       "      <th>Age</th>\n",
       "      <th>Sex</th>\n",
       "      <th>Nationality</th>\n",
       "      <th>Month</th>\n",
       "      <th>Year</th>\n",
       "      <th>Day</th>\n",
       "    </tr>\n",
       "  </thead>\n",
       "  <tbody>\n",
       "    <tr>\n",
       "      <th>0</th>\n",
       "      <td>1</td>\n",
       "      <td>20111</td>\n",
       "      <td>Flight</td>\n",
       "      <td>Hotel</td>\n",
       "      <td>Cristina</td>\n",
       "      <td>Fuentes</td>\n",
       "      <td>6/14/14</td>\n",
       "      <td>5143 Pope Camp Apt. 028\\nLake Emily, UT 71371</td>\n",
       "      <td>74</td>\n",
       "      <td>Non-Binary</td>\n",
       "      <td>Lao People's Democratic Republic</td>\n",
       "      <td>9</td>\n",
       "      <td>2022</td>\n",
       "      <td>13</td>\n",
       "    </tr>\n",
       "    <tr>\n",
       "      <th>1</th>\n",
       "      <td>5</td>\n",
       "      <td>29681</td>\n",
       "      <td>Car</td>\n",
       "      <td>Hotel</td>\n",
       "      <td>Patricia</td>\n",
       "      <td>Young</td>\n",
       "      <td>9/25/23</td>\n",
       "      <td>716 Dominguez Row Suite 775\\nSouth Tiffanyboro...</td>\n",
       "      <td>19</td>\n",
       "      <td>Female</td>\n",
       "      <td>Gabon</td>\n",
       "      <td>9</td>\n",
       "      <td>2021</td>\n",
       "      <td>4</td>\n",
       "    </tr>\n",
       "    <tr>\n",
       "      <th>2</th>\n",
       "      <td>7</td>\n",
       "      <td>24950</td>\n",
       "      <td>Flight</td>\n",
       "      <td>Airbnb</td>\n",
       "      <td>Christina</td>\n",
       "      <td>Kirby</td>\n",
       "      <td>1/2/35</td>\n",
       "      <td>PSC 4600, Box 1237\\nAPO AE 32510</td>\n",
       "      <td>36</td>\n",
       "      <td>Female</td>\n",
       "      <td>Syrian Arab Republic</td>\n",
       "      <td>1</td>\n",
       "      <td>2021</td>\n",
       "      <td>25</td>\n",
       "    </tr>\n",
       "    <tr>\n",
       "      <th>3</th>\n",
       "      <td>19</td>\n",
       "      <td>18676</td>\n",
       "      <td>Roadtrip</td>\n",
       "      <td>Airbnb</td>\n",
       "      <td>Michael</td>\n",
       "      <td>Hudson</td>\n",
       "      <td>4/21/82</td>\n",
       "      <td>7013 Bryant Club Suite 695\\nSouth Tina, WI 26739</td>\n",
       "      <td>38</td>\n",
       "      <td>Non-Binary</td>\n",
       "      <td>Afghanistan</td>\n",
       "      <td>1</td>\n",
       "      <td>2022</td>\n",
       "      <td>28</td>\n",
       "    </tr>\n",
       "    <tr>\n",
       "      <th>4</th>\n",
       "      <td>28</td>\n",
       "      <td>18899</td>\n",
       "      <td>Flight</td>\n",
       "      <td>Airbnb</td>\n",
       "      <td>Francisco</td>\n",
       "      <td>Hensley</td>\n",
       "      <td>6/29/13</td>\n",
       "      <td>074 Scott Brook Suite 700\\nLukeville, VA 46541</td>\n",
       "      <td>38</td>\n",
       "      <td>Non-Binary</td>\n",
       "      <td>Uruguay</td>\n",
       "      <td>10</td>\n",
       "      <td>2021</td>\n",
       "      <td>21</td>\n",
       "    </tr>\n",
       "  </tbody>\n",
       "</table>\n",
       "</div>"
      ],
      "text/plain": [
       "   Duration  Cost of Travel(Entire Trip) in Euros Mode of Travel    Stay  \\\n",
       "0         1                                 20111         Flight   Hotel   \n",
       "1         5                                 29681            Car   Hotel   \n",
       "2         7                                 24950         Flight  Airbnb   \n",
       "3        19                                 18676       Roadtrip  Airbnb   \n",
       "4        28                                 18899         Flight  Airbnb   \n",
       "\n",
       "  First Name Last Name Date of Birth  \\\n",
       "0   Cristina   Fuentes       6/14/14   \n",
       "1   Patricia     Young       9/25/23   \n",
       "2  Christina     Kirby        1/2/35   \n",
       "3    Michael    Hudson       4/21/82   \n",
       "4  Francisco   Hensley       6/29/13   \n",
       "\n",
       "                                             Address  Age         Sex  \\\n",
       "0      5143 Pope Camp Apt. 028\\nLake Emily, UT 71371   74  Non-Binary   \n",
       "1  716 Dominguez Row Suite 775\\nSouth Tiffanyboro...   19      Female   \n",
       "2                   PSC 4600, Box 1237\\nAPO AE 32510   36      Female   \n",
       "3   7013 Bryant Club Suite 695\\nSouth Tina, WI 26739   38  Non-Binary   \n",
       "4     074 Scott Brook Suite 700\\nLukeville, VA 46541   38  Non-Binary   \n",
       "\n",
       "                        Nationality  Month  Year  Day  \n",
       "0  Lao People's Democratic Republic      9  2022   13  \n",
       "1                             Gabon      9  2021    4  \n",
       "2              Syrian Arab Republic      1  2021   25  \n",
       "3                       Afghanistan      1  2022   28  \n",
       "4                           Uruguay     10  2021   21  "
      ]
     },
     "execution_count": 266,
     "metadata": {},
     "output_type": "execute_result"
    }
   ],
   "source": [
    "# Split the date column into year, month, and day columns\n",
    "greece_travel_data['Year'] = greece_travel_data['Date of Travel'].dt.year\n",
    "greece_travel_data['Month'] = greece_travel_data['Date of Travel'].dt.month\n",
    "greece_travel_data['Day'] = greece_travel_data['Date of Travel'].dt.day\n",
    "\n",
    "# Drop columns 'Trip #no.' and 'Date of Travel' from the DataFrame\n",
    "cleaned_df = greece_travel_data.drop(['Trip #no.', 'Date of Travel'], axis=1)\n",
    "\n",
    "# Rename the 'Cost of Travel(Entire Trip)' to 'Cost of Travel(Entire Trip) in Euros'\n",
    "cleaned_df = cleaned_df.rename(columns={'Cost of Travel(Entire Trip)': 'Cost of Travel(Entire Trip) in Euros'})\n",
    "\n",
    "# Display the modified DataFrame\n",
    "cleaned_df.head()"
   ]
  },
  {
   "cell_type": "code",
   "execution_count": 267,
   "metadata": {},
   "outputs": [
    {
     "data": {
      "text/html": [
       "<div>\n",
       "<style scoped>\n",
       "    .dataframe tbody tr th:only-of-type {\n",
       "        vertical-align: middle;\n",
       "    }\n",
       "\n",
       "    .dataframe tbody tr th {\n",
       "        vertical-align: top;\n",
       "    }\n",
       "\n",
       "    .dataframe thead th {\n",
       "        text-align: right;\n",
       "    }\n",
       "</style>\n",
       "<table border=\"1\" class=\"dataframe\">\n",
       "  <thead>\n",
       "    <tr style=\"text-align: right;\">\n",
       "      <th></th>\n",
       "      <th>Trip #no.</th>\n",
       "      <th>Duration</th>\n",
       "      <th>Cost of Travel(Entire Trip)</th>\n",
       "      <th>Age</th>\n",
       "      <th>Date of Travel</th>\n",
       "      <th>Month</th>\n",
       "      <th>Year</th>\n",
       "      <th>Day</th>\n",
       "      <th>Mode of Travel_Bus</th>\n",
       "      <th>Mode of Travel_Car</th>\n",
       "      <th>...</th>\n",
       "      <th>Nationality_Uruguay</th>\n",
       "      <th>Nationality_Uzbekistan</th>\n",
       "      <th>Nationality_Vanuatu</th>\n",
       "      <th>Nationality_Venezuela</th>\n",
       "      <th>Nationality_Vietnam</th>\n",
       "      <th>Nationality_Wallis and Futuna</th>\n",
       "      <th>Nationality_Western Sahara</th>\n",
       "      <th>Nationality_Yemen</th>\n",
       "      <th>Nationality_Zambia</th>\n",
       "      <th>Nationality_Zimbabwe</th>\n",
       "    </tr>\n",
       "  </thead>\n",
       "  <tbody>\n",
       "    <tr>\n",
       "      <th>0</th>\n",
       "      <td>55</td>\n",
       "      <td>1</td>\n",
       "      <td>20111</td>\n",
       "      <td>74</td>\n",
       "      <td>2022-09-13</td>\n",
       "      <td>9</td>\n",
       "      <td>2022</td>\n",
       "      <td>13</td>\n",
       "      <td>False</td>\n",
       "      <td>False</td>\n",
       "      <td>...</td>\n",
       "      <td>False</td>\n",
       "      <td>False</td>\n",
       "      <td>False</td>\n",
       "      <td>False</td>\n",
       "      <td>False</td>\n",
       "      <td>False</td>\n",
       "      <td>False</td>\n",
       "      <td>False</td>\n",
       "      <td>False</td>\n",
       "      <td>False</td>\n",
       "    </tr>\n",
       "    <tr>\n",
       "      <th>1</th>\n",
       "      <td>288</td>\n",
       "      <td>5</td>\n",
       "      <td>29681</td>\n",
       "      <td>19</td>\n",
       "      <td>2021-09-04</td>\n",
       "      <td>9</td>\n",
       "      <td>2021</td>\n",
       "      <td>4</td>\n",
       "      <td>False</td>\n",
       "      <td>True</td>\n",
       "      <td>...</td>\n",
       "      <td>False</td>\n",
       "      <td>False</td>\n",
       "      <td>False</td>\n",
       "      <td>False</td>\n",
       "      <td>False</td>\n",
       "      <td>False</td>\n",
       "      <td>False</td>\n",
       "      <td>False</td>\n",
       "      <td>False</td>\n",
       "      <td>False</td>\n",
       "    </tr>\n",
       "    <tr>\n",
       "      <th>2</th>\n",
       "      <td>291</td>\n",
       "      <td>7</td>\n",
       "      <td>24950</td>\n",
       "      <td>36</td>\n",
       "      <td>2021-01-25</td>\n",
       "      <td>1</td>\n",
       "      <td>2021</td>\n",
       "      <td>25</td>\n",
       "      <td>False</td>\n",
       "      <td>False</td>\n",
       "      <td>...</td>\n",
       "      <td>False</td>\n",
       "      <td>False</td>\n",
       "      <td>False</td>\n",
       "      <td>False</td>\n",
       "      <td>False</td>\n",
       "      <td>False</td>\n",
       "      <td>False</td>\n",
       "      <td>False</td>\n",
       "      <td>False</td>\n",
       "      <td>False</td>\n",
       "    </tr>\n",
       "    <tr>\n",
       "      <th>3</th>\n",
       "      <td>131</td>\n",
       "      <td>19</td>\n",
       "      <td>18676</td>\n",
       "      <td>38</td>\n",
       "      <td>2022-01-28</td>\n",
       "      <td>1</td>\n",
       "      <td>2022</td>\n",
       "      <td>28</td>\n",
       "      <td>False</td>\n",
       "      <td>False</td>\n",
       "      <td>...</td>\n",
       "      <td>False</td>\n",
       "      <td>False</td>\n",
       "      <td>False</td>\n",
       "      <td>False</td>\n",
       "      <td>False</td>\n",
       "      <td>False</td>\n",
       "      <td>False</td>\n",
       "      <td>False</td>\n",
       "      <td>False</td>\n",
       "      <td>False</td>\n",
       "    </tr>\n",
       "    <tr>\n",
       "      <th>4</th>\n",
       "      <td>281</td>\n",
       "      <td>28</td>\n",
       "      <td>18899</td>\n",
       "      <td>38</td>\n",
       "      <td>2021-10-21</td>\n",
       "      <td>10</td>\n",
       "      <td>2021</td>\n",
       "      <td>21</td>\n",
       "      <td>False</td>\n",
       "      <td>False</td>\n",
       "      <td>...</td>\n",
       "      <td>True</td>\n",
       "      <td>False</td>\n",
       "      <td>False</td>\n",
       "      <td>False</td>\n",
       "      <td>False</td>\n",
       "      <td>False</td>\n",
       "      <td>False</td>\n",
       "      <td>False</td>\n",
       "      <td>False</td>\n",
       "      <td>False</td>\n",
       "    </tr>\n",
       "  </tbody>\n",
       "</table>\n",
       "<p>5 rows × 7495 columns</p>\n",
       "</div>"
      ],
      "text/plain": [
       "   Trip #no.  Duration  Cost of Travel(Entire Trip)  Age Date of Travel  \\\n",
       "0         55         1                        20111   74     2022-09-13   \n",
       "1        288         5                        29681   19     2021-09-04   \n",
       "2        291         7                        24950   36     2021-01-25   \n",
       "3        131        19                        18676   38     2022-01-28   \n",
       "4        281        28                        18899   38     2021-10-21   \n",
       "\n",
       "   Month  Year  Day  Mode of Travel_Bus  Mode of Travel_Car  ...  \\\n",
       "0      9  2022   13               False               False  ...   \n",
       "1      9  2021    4               False                True  ...   \n",
       "2      1  2021   25               False               False  ...   \n",
       "3      1  2022   28               False               False  ...   \n",
       "4     10  2021   21               False               False  ...   \n",
       "\n",
       "   Nationality_Uruguay  Nationality_Uzbekistan  Nationality_Vanuatu  \\\n",
       "0                False                   False                False   \n",
       "1                False                   False                False   \n",
       "2                False                   False                False   \n",
       "3                False                   False                False   \n",
       "4                 True                   False                False   \n",
       "\n",
       "   Nationality_Venezuela  Nationality_Vietnam  Nationality_Wallis and Futuna  \\\n",
       "0                  False                False                          False   \n",
       "1                  False                False                          False   \n",
       "2                  False                False                          False   \n",
       "3                  False                False                          False   \n",
       "4                  False                False                          False   \n",
       "\n",
       "   Nationality_Western Sahara  Nationality_Yemen  Nationality_Zambia  \\\n",
       "0                       False              False               False   \n",
       "1                       False              False               False   \n",
       "2                       False              False               False   \n",
       "3                       False              False               False   \n",
       "4                       False              False               False   \n",
       "\n",
       "   Nationality_Zimbabwe  \n",
       "0                 False  \n",
       "1                 False  \n",
       "2                 False  \n",
       "3                 False  \n",
       "4                 False  \n",
       "\n",
       "[5 rows x 7495 columns]"
      ]
     },
     "execution_count": 267,
     "metadata": {},
     "output_type": "execute_result"
    }
   ],
   "source": [
    "# Convert categorical data to numeric with `pd.get_dummies`\n",
    "dummies = pd.get_dummies(greece_travel_data)\n",
    "dummies.head()"
   ]
  },
  {
   "cell_type": "code",
   "execution_count": 268,
   "metadata": {},
   "outputs": [],
   "source": [
    "# Convert \"Duration\" to binary target variable\n",
    "greece_travel_data['Duration'] = (greece_travel_data['Duration'] > 7).astype(int)\n",
    "\n",
    "# Split our preprocessed data into our features and target arrays\n",
    "y = greece_travel_data['Duration'].values\n",
    "X = greece_travel_data.drop(columns='Duration').values\n",
    "\n",
    "# Split the preprocessed data into a training and testing dataset\n",
    "X_train, X_test, y_train, y_test = train_test_split(X, y, random_state=1, stratify=y)"
   ]
  },
  {
   "cell_type": "code",
   "execution_count": 269,
   "metadata": {},
   "outputs": [
    {
     "name": "stdout",
     "output_type": "stream",
     "text": [
      "Model: \"sequential_6\"\n",
      "_________________________________________________________________\n",
      " Layer (type)                Output Shape              Param #   \n",
      "=================================================================\n",
      " dense_18 (Dense)            (None, 5)                 80        \n",
      "                                                                 \n",
      " dense_19 (Dense)            (None, 5)                 30        \n",
      "                                                                 \n",
      " dense_20 (Dense)            (None, 1)                 6         \n",
      "                                                                 \n",
      "=================================================================\n",
      "Total params: 116 (464.00 Byte)\n",
      "Trainable params: 116 (464.00 Byte)\n",
      "Non-trainable params: 0 (0.00 Byte)\n",
      "_________________________________________________________________\n"
     ]
    }
   ],
   "source": [
    "# Import necessary libraries\n",
    "import tensorflow as tf\n",
    "import pandas as pd\n",
    "\n",
    "# Convert X_train and y_train to Pandas DataFrames\n",
    "X_train = pd.DataFrame(X_train)\n",
    "y_train = pd.DataFrame(y_train)\n",
    "\n",
    "# Define the model - deep neural net, input features, and hidden nodes\n",
    "input_features_total = len(X_train.columns)\n",
    "hidden_nodes_layer1 = 5\n",
    "hidden_nodes_layer2 = 5\n",
    "\n",
    "nn = tf.keras.models.Sequential()\n",
    "\n",
    "# First hidden layer\n",
    "nn.add(tf.keras.layers.Dense(units=hidden_nodes_layer1, input_dim=input_features_total, activation=\"relu\"))\n",
    "\n",
    "# Second hidden layer\n",
    "nn.add(tf.keras.layers.Dense(units=hidden_nodes_layer2, activation=\"relu\"))\n",
    "\n",
    "# Output layer\n",
    "nn.add(tf.keras.layers.Dense(units=1, activation=\"sigmoid\"))\n",
    "\n",
    "# Check the structure of the model\n",
    "nn.summary()"
   ]
  },
  {
   "cell_type": "code",
   "execution_count": 270,
   "metadata": {},
   "outputs": [],
   "source": [
    "# Compile the model\n",
    "nn.compile(loss=\"binary_crossentropy\", optimizer=\"adam\", metrics=[\"accuracy\"])"
   ]
  },
  {
   "cell_type": "code",
   "execution_count": 271,
   "metadata": {},
   "outputs": [
    {
     "name": "stdout",
     "output_type": "stream",
     "text": [
      "RangeIndex(start=0, stop=15, step=1)\n"
     ]
    }
   ],
   "source": [
    "print(X_train.columns)"
   ]
  },
  {
   "cell_type": "code",
   "execution_count": 272,
   "metadata": {},
   "outputs": [],
   "source": [
    "# Drop datetime columns from X_train\n",
    "X_train = X_train.drop(X_train.columns[7], axis=1)"
   ]
  },
  {
   "cell_type": "code",
   "execution_count": 273,
   "metadata": {},
   "outputs": [],
   "source": [
    "X_train = X_train.apply(pd.to_numeric, errors='coerce')"
   ]
  },
  {
   "cell_type": "code",
   "execution_count": 274,
   "metadata": {},
   "outputs": [],
   "source": [
    "input_features_total = len(X_train.columns)"
   ]
  },
  {
   "cell_type": "code",
   "execution_count": 275,
   "metadata": {},
   "outputs": [
    {
     "name": "stdout",
     "output_type": "stream",
     "text": [
      "(2250, 14)\n",
      "Epoch 1/100\n",
      "71/71 [==============================] - 0s 357us/step - loss: nan - accuracy: 0.2244\n",
      "Epoch 2/100\n",
      "71/71 [==============================] - 0s 293us/step - loss: nan - accuracy: 0.2244\n",
      "Epoch 3/100\n",
      "71/71 [==============================] - 0s 304us/step - loss: nan - accuracy: 0.2244\n",
      "Epoch 4/100\n",
      "71/71 [==============================] - 0s 288us/step - loss: nan - accuracy: 0.2244\n",
      "Epoch 5/100\n",
      "71/71 [==============================] - 0s 286us/step - loss: nan - accuracy: 0.2244\n",
      "Epoch 6/100\n",
      "71/71 [==============================] - 0s 292us/step - loss: nan - accuracy: 0.2244\n",
      "Epoch 7/100\n",
      "71/71 [==============================] - 0s 289us/step - loss: nan - accuracy: 0.2244\n",
      "Epoch 8/100\n",
      "71/71 [==============================] - 0s 286us/step - loss: nan - accuracy: 0.2244\n",
      "Epoch 9/100\n",
      "71/71 [==============================] - 0s 287us/step - loss: nan - accuracy: 0.2244\n",
      "Epoch 10/100\n",
      "71/71 [==============================] - 0s 283us/step - loss: nan - accuracy: 0.2244\n",
      "Epoch 11/100\n",
      "71/71 [==============================] - 0s 284us/step - loss: nan - accuracy: 0.2244\n",
      "Epoch 12/100\n",
      "71/71 [==============================] - 0s 283us/step - loss: nan - accuracy: 0.2244\n",
      "Epoch 13/100\n",
      "71/71 [==============================] - 0s 285us/step - loss: nan - accuracy: 0.2244\n",
      "Epoch 14/100\n",
      "71/71 [==============================] - 0s 287us/step - loss: nan - accuracy: 0.2244\n",
      "Epoch 15/100\n",
      "71/71 [==============================] - 0s 292us/step - loss: nan - accuracy: 0.2244\n",
      "Epoch 16/100\n",
      "71/71 [==============================] - 0s 299us/step - loss: nan - accuracy: 0.2244\n",
      "Epoch 17/100\n",
      "71/71 [==============================] - 0s 289us/step - loss: nan - accuracy: 0.2244\n",
      "Epoch 18/100\n",
      "71/71 [==============================] - 0s 285us/step - loss: nan - accuracy: 0.2244\n",
      "Epoch 19/100\n",
      "71/71 [==============================] - 0s 282us/step - loss: nan - accuracy: 0.2244\n",
      "Epoch 20/100\n",
      "71/71 [==============================] - 0s 285us/step - loss: nan - accuracy: 0.2244\n",
      "Epoch 21/100\n",
      "71/71 [==============================] - 0s 285us/step - loss: nan - accuracy: 0.2244\n",
      "Epoch 22/100\n",
      "71/71 [==============================] - 0s 286us/step - loss: nan - accuracy: 0.2244\n",
      "Epoch 23/100\n",
      "71/71 [==============================] - 0s 285us/step - loss: nan - accuracy: 0.2244\n",
      "Epoch 24/100\n",
      "71/71 [==============================] - 0s 284us/step - loss: nan - accuracy: 0.2244\n",
      "Epoch 25/100\n",
      "71/71 [==============================] - 0s 286us/step - loss: nan - accuracy: 0.2244\n",
      "Epoch 26/100\n",
      "71/71 [==============================] - 0s 286us/step - loss: nan - accuracy: 0.2244\n",
      "Epoch 27/100\n",
      "71/71 [==============================] - 0s 281us/step - loss: nan - accuracy: 0.2244\n",
      "Epoch 28/100\n",
      "71/71 [==============================] - 0s 280us/step - loss: nan - accuracy: 0.2244\n",
      "Epoch 29/100\n",
      "71/71 [==============================] - 0s 285us/step - loss: nan - accuracy: 0.2244\n",
      "Epoch 30/100\n",
      "71/71 [==============================] - 0s 284us/step - loss: nan - accuracy: 0.2244\n",
      "Epoch 31/100\n",
      "71/71 [==============================] - 0s 287us/step - loss: nan - accuracy: 0.2244\n",
      "Epoch 32/100\n",
      "71/71 [==============================] - 0s 282us/step - loss: nan - accuracy: 0.2244\n",
      "Epoch 33/100\n",
      "71/71 [==============================] - 0s 281us/step - loss: nan - accuracy: 0.2244\n",
      "Epoch 34/100\n",
      "71/71 [==============================] - 0s 281us/step - loss: nan - accuracy: 0.2244\n",
      "Epoch 35/100\n",
      "71/71 [==============================] - 0s 278us/step - loss: nan - accuracy: 0.2244\n",
      "Epoch 36/100\n",
      "71/71 [==============================] - 0s 285us/step - loss: nan - accuracy: 0.2244\n",
      "Epoch 37/100\n",
      "71/71 [==============================] - 0s 289us/step - loss: nan - accuracy: 0.2244\n",
      "Epoch 38/100\n",
      "71/71 [==============================] - 0s 292us/step - loss: nan - accuracy: 0.2244\n",
      "Epoch 39/100\n",
      "71/71 [==============================] - 0s 285us/step - loss: nan - accuracy: 0.2244\n",
      "Epoch 40/100\n",
      "71/71 [==============================] - 0s 289us/step - loss: nan - accuracy: 0.2244\n",
      "Epoch 41/100\n",
      "71/71 [==============================] - 0s 300us/step - loss: nan - accuracy: 0.2244\n",
      "Epoch 42/100\n",
      "71/71 [==============================] - 0s 295us/step - loss: nan - accuracy: 0.2244\n",
      "Epoch 43/100\n",
      "71/71 [==============================] - 0s 317us/step - loss: nan - accuracy: 0.2244\n",
      "Epoch 44/100\n",
      "71/71 [==============================] - 0s 287us/step - loss: nan - accuracy: 0.2244\n",
      "Epoch 45/100\n",
      "71/71 [==============================] - 0s 286us/step - loss: nan - accuracy: 0.2244\n",
      "Epoch 46/100\n",
      "71/71 [==============================] - 0s 282us/step - loss: nan - accuracy: 0.2244\n",
      "Epoch 47/100\n",
      "71/71 [==============================] - 0s 284us/step - loss: nan - accuracy: 0.2244\n",
      "Epoch 48/100\n",
      "71/71 [==============================] - 0s 297us/step - loss: nan - accuracy: 0.2244\n",
      "Epoch 49/100\n",
      "71/71 [==============================] - 0s 287us/step - loss: nan - accuracy: 0.2244\n",
      "Epoch 50/100\n",
      "71/71 [==============================] - 0s 287us/step - loss: nan - accuracy: 0.2244\n",
      "Epoch 51/100\n",
      "71/71 [==============================] - 0s 496us/step - loss: nan - accuracy: 0.2244\n",
      "Epoch 52/100\n",
      "71/71 [==============================] - 0s 346us/step - loss: nan - accuracy: 0.2244\n",
      "Epoch 53/100\n",
      "71/71 [==============================] - 0s 293us/step - loss: nan - accuracy: 0.2244\n",
      "Epoch 54/100\n",
      "71/71 [==============================] - 0s 284us/step - loss: nan - accuracy: 0.2244\n",
      "Epoch 55/100\n",
      "71/71 [==============================] - 0s 287us/step - loss: nan - accuracy: 0.2244\n",
      "Epoch 56/100\n",
      "71/71 [==============================] - 0s 291us/step - loss: nan - accuracy: 0.2244\n",
      "Epoch 57/100\n",
      "71/71 [==============================] - 0s 287us/step - loss: nan - accuracy: 0.2244\n",
      "Epoch 58/100\n",
      "71/71 [==============================] - 0s 291us/step - loss: nan - accuracy: 0.2244\n",
      "Epoch 59/100\n",
      "71/71 [==============================] - 0s 287us/step - loss: nan - accuracy: 0.2244\n",
      "Epoch 60/100\n",
      "71/71 [==============================] - 0s 292us/step - loss: nan - accuracy: 0.2244\n",
      "Epoch 61/100\n",
      "71/71 [==============================] - 0s 296us/step - loss: nan - accuracy: 0.2244\n",
      "Epoch 62/100\n",
      "71/71 [==============================] - 0s 719us/step - loss: nan - accuracy: 0.2244\n",
      "Epoch 63/100\n",
      "71/71 [==============================] - 0s 310us/step - loss: nan - accuracy: 0.2244\n",
      "Epoch 64/100\n",
      "71/71 [==============================] - 0s 287us/step - loss: nan - accuracy: 0.2244\n",
      "Epoch 65/100\n",
      "71/71 [==============================] - 0s 285us/step - loss: nan - accuracy: 0.2244\n",
      "Epoch 66/100\n",
      "71/71 [==============================] - 0s 287us/step - loss: nan - accuracy: 0.2244\n",
      "Epoch 67/100\n",
      "71/71 [==============================] - 0s 290us/step - loss: nan - accuracy: 0.2244\n",
      "Epoch 68/100\n",
      "71/71 [==============================] - 0s 299us/step - loss: nan - accuracy: 0.2244\n",
      "Epoch 69/100\n",
      "71/71 [==============================] - 0s 295us/step - loss: nan - accuracy: 0.2244\n",
      "Epoch 70/100\n",
      "71/71 [==============================] - 0s 296us/step - loss: nan - accuracy: 0.2244\n",
      "Epoch 71/100\n",
      "71/71 [==============================] - 0s 288us/step - loss: nan - accuracy: 0.2244\n",
      "Epoch 72/100\n",
      "71/71 [==============================] - 0s 284us/step - loss: nan - accuracy: 0.2244\n",
      "Epoch 73/100\n",
      "71/71 [==============================] - 0s 281us/step - loss: nan - accuracy: 0.2244\n",
      "Epoch 74/100\n",
      "71/71 [==============================] - 0s 287us/step - loss: nan - accuracy: 0.2244\n",
      "Epoch 75/100\n",
      "71/71 [==============================] - 0s 298us/step - loss: nan - accuracy: 0.2244\n",
      "Epoch 76/100\n",
      "71/71 [==============================] - 0s 292us/step - loss: nan - accuracy: 0.2244\n",
      "Epoch 77/100\n",
      "71/71 [==============================] - 0s 289us/step - loss: nan - accuracy: 0.2244\n",
      "Epoch 78/100\n",
      "71/71 [==============================] - 0s 281us/step - loss: nan - accuracy: 0.2244\n",
      "Epoch 79/100\n",
      "71/71 [==============================] - 0s 285us/step - loss: nan - accuracy: 0.2244\n",
      "Epoch 80/100\n",
      "71/71 [==============================] - 0s 293us/step - loss: nan - accuracy: 0.2244\n",
      "Epoch 81/100\n",
      "71/71 [==============================] - 0s 280us/step - loss: nan - accuracy: 0.2244\n",
      "Epoch 82/100\n",
      "71/71 [==============================] - 0s 280us/step - loss: nan - accuracy: 0.2244\n",
      "Epoch 83/100\n",
      "71/71 [==============================] - 0s 284us/step - loss: nan - accuracy: 0.2244\n",
      "Epoch 84/100\n",
      "71/71 [==============================] - 0s 287us/step - loss: nan - accuracy: 0.2244\n",
      "Epoch 85/100\n",
      "71/71 [==============================] - 0s 284us/step - loss: nan - accuracy: 0.2244\n",
      "Epoch 86/100\n",
      "71/71 [==============================] - 0s 284us/step - loss: nan - accuracy: 0.2244\n",
      "Epoch 87/100\n",
      "71/71 [==============================] - 0s 280us/step - loss: nan - accuracy: 0.2244\n",
      "Epoch 88/100\n",
      "71/71 [==============================] - 0s 285us/step - loss: nan - accuracy: 0.2244\n",
      "Epoch 89/100\n",
      "71/71 [==============================] - 0s 281us/step - loss: nan - accuracy: 0.2244\n",
      "Epoch 90/100\n",
      "71/71 [==============================] - 0s 284us/step - loss: nan - accuracy: 0.2244\n",
      "Epoch 91/100\n",
      "71/71 [==============================] - 0s 284us/step - loss: nan - accuracy: 0.2244\n",
      "Epoch 92/100\n",
      "71/71 [==============================] - 0s 283us/step - loss: nan - accuracy: 0.2244\n",
      "Epoch 93/100\n",
      "71/71 [==============================] - 0s 282us/step - loss: nan - accuracy: 0.2244\n",
      "Epoch 94/100\n",
      "71/71 [==============================] - 0s 283us/step - loss: nan - accuracy: 0.2244\n",
      "Epoch 95/100\n",
      "71/71 [==============================] - 0s 283us/step - loss: nan - accuracy: 0.2244\n",
      "Epoch 96/100\n",
      "71/71 [==============================] - 0s 283us/step - loss: nan - accuracy: 0.2244\n",
      "Epoch 97/100\n",
      "71/71 [==============================] - 0s 282us/step - loss: nan - accuracy: 0.2244\n",
      "Epoch 98/100\n",
      "71/71 [==============================] - 0s 282us/step - loss: nan - accuracy: 0.2244\n",
      "Epoch 99/100\n",
      "71/71 [==============================] - 0s 281us/step - loss: nan - accuracy: 0.2244\n",
      "Epoch 100/100\n",
      "71/71 [==============================] - 0s 287us/step - loss: nan - accuracy: 0.2244\n"
     ]
    }
   ],
   "source": [
    "# Check the shape of X_train to get the number of features\n",
    "print(X_train.shape)  # This will print the shape of X_train\n",
    "\n",
    "# Update input_features_total based on the correct number of features\n",
    "input_features_total = X_train.shape[1]\n",
    "\n",
    "# Define the model - deep neural net with updated input_features_total\n",
    "nn = tf.keras.models.Sequential()\n",
    "nn.add(tf.keras.layers.Dense(units=hidden_nodes_layer1, input_dim=input_features_total, activation=\"relu\"))\n",
    "nn.add(tf.keras.layers.Dense(units=hidden_nodes_layer2, activation=\"relu\"))\n",
    "nn.add(tf.keras.layers.Dense(units=1, activation=\"sigmoid\"))\n",
    "\n",
    "# Compile and train the model with the updated input\n",
    "nn.compile(loss=\"binary_crossentropy\", optimizer=\"adam\", metrics=[\"accuracy\"])\n",
    "fit_model = nn.fit(X_train, y_train, epochs=100)"
   ]
  },
  {
   "cell_type": "code",
   "execution_count": 276,
   "metadata": {},
   "outputs": [
    {
     "ename": "ValueError",
     "evalue": "could not convert string to float: 'Car'",
     "output_type": "error",
     "traceback": [
      "\u001b[0;31m---------------------------------------------------------------------------\u001b[0m",
      "\u001b[0;31mValueError\u001b[0m                                Traceback (most recent call last)",
      "Cell \u001b[0;32mIn[276], line 5\u001b[0m\n\u001b[1;32m      2\u001b[0m y_test \u001b[39m=\u001b[39m y_test\u001b[39m.\u001b[39mastype(\u001b[39m'\u001b[39m\u001b[39mfloat32\u001b[39m\u001b[39m'\u001b[39m)\n\u001b[1;32m      4\u001b[0m \u001b[39m# Convert X_test to float32, similar to what you did for X_train\u001b[39;00m\n\u001b[0;32m----> 5\u001b[0m X_test \u001b[39m=\u001b[39m X_test\u001b[39m.\u001b[39;49mastype(\u001b[39m'\u001b[39;49m\u001b[39mfloat32\u001b[39;49m\u001b[39m'\u001b[39;49m)\n\u001b[1;32m      7\u001b[0m \u001b[39m# Now, evaluate the model\u001b[39;00m\n\u001b[1;32m      8\u001b[0m model_loss, model_accuracy \u001b[39m=\u001b[39m nn\u001b[39m.\u001b[39mevaluate(X_test, y_test, verbose\u001b[39m=\u001b[39m\u001b[39m2\u001b[39m)\n",
      "\u001b[0;31mValueError\u001b[0m: could not convert string to float: 'Car'"
     ]
    }
   ],
   "source": [
    "# Ensure y_test is of type float32, similar to what you did for y_train\n",
    "y_test = y_test.astype('float32')\n",
    "\n",
    "# Convert X_test to float32, similar to what you did for X_train\n",
    "X_test = X_test.astype('float32')\n",
    "\n",
    "# Now, evaluate the model\n",
    "model_loss, model_accuracy = nn.evaluate(X_test, y_test, verbose=2)\n",
    "print(f\"Loss: {model_loss}, Accuracy: {model_accuracy}\")"
   ]
  },
  {
   "cell_type": "code",
   "execution_count": null,
   "metadata": {},
   "outputs": [
    {
     "name": "stdout",
     "output_type": "stream",
     "text": [
      "X_train is a NumPy array: True\n",
      "y_train is a NumPy array: True\n"
     ]
    }
   ],
   "source": [
    "# Check if X_train and y_train are NumPy arrays\n",
    "print(\"X_train is a NumPy array:\", isinstance(X_train, np.ndarray))\n",
    "print(\"y_train is a NumPy array:\", isinstance(y_train, np.ndarray))"
   ]
  },
  {
   "cell_type": "code",
   "execution_count": null,
   "metadata": {},
   "outputs": [
    {
     "name": "stdout",
     "output_type": "stream",
     "text": [
      "X_train shape: (2250, 15)\n",
      "X_train data type: object\n",
      "y_train shape: (2250,)\n",
      "y_train data type: int64\n"
     ]
    }
   ],
   "source": [
    "print(\"X_train shape:\", X_train.shape)\n",
    "print(\"X_train data type:\", X_train.dtype)\n",
    "print(\"y_train shape:\", y_train.shape)\n",
    "print(\"y_train data type:\", y_train.dtype)"
   ]
  },
  {
   "cell_type": "code",
   "execution_count": null,
   "metadata": {},
   "outputs": [
    {
     "ename": "AttributeError",
     "evalue": "'numpy.ndarray' object has no attribute 'columns'",
     "output_type": "error",
     "traceback": [
      "\u001b[0;31m---------------------------------------------------------------------------\u001b[0m",
      "\u001b[0;31mAttributeError\u001b[0m                            Traceback (most recent call last)",
      "Cell \u001b[0;32mIn[219], line 1\u001b[0m\n\u001b[0;32m----> 1\u001b[0m column_names \u001b[39m=\u001b[39m X_train\u001b[39m.\u001b[39;49mcolumns\n\u001b[1;32m      2\u001b[0m \u001b[39mprint\u001b[39m(\u001b[39m\"\u001b[39m\u001b[39mColumn Names in X_train:\u001b[39m\u001b[39m\"\u001b[39m)\n\u001b[1;32m      3\u001b[0m \u001b[39mprint\u001b[39m(column_names)\n",
      "\u001b[0;31mAttributeError\u001b[0m: 'numpy.ndarray' object has no attribute 'columns'"
     ]
    }
   ],
   "source": [
    "column_names = X_train.columns\n",
    "print(\"Column Names in X_train:\")\n",
    "print(column_names)"
   ]
  }
 ],
 "metadata": {
  "kernelspec": {
   "display_name": "Python 3",
   "language": "python",
   "name": "python3"
  },
  "language_info": {
   "codemirror_mode": {
    "name": "ipython",
    "version": 3
   },
   "file_extension": ".py",
   "mimetype": "text/x-python",
   "name": "python",
   "nbconvert_exporter": "python",
   "pygments_lexer": "ipython3",
   "version": "3.10.12"
  },
  "orig_nbformat": 4
 },
 "nbformat": 4,
 "nbformat_minor": 2
}
