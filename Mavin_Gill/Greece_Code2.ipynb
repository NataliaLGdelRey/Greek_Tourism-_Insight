{
 "cells": [
  {
   "cell_type": "code",
   "execution_count": 294,
   "metadata": {},
   "outputs": [],
   "source": [
    "# Import the modules\n",
    "import numpy as np\n",
    "import pandas as pd\n",
    "from pathlib import Path\n",
    "from sklearn.metrics import balanced_accuracy_score, confusion_matrix, classification_report"
   ]
  },
  {
   "cell_type": "code",
   "execution_count": 295,
   "metadata": {},
   "outputs": [
    {
     "data": {
      "text/html": [
       "<div>\n",
       "<style scoped>\n",
       "    .dataframe tbody tr th:only-of-type {\n",
       "        vertical-align: middle;\n",
       "    }\n",
       "\n",
       "    .dataframe tbody tr th {\n",
       "        vertical-align: top;\n",
       "    }\n",
       "\n",
       "    .dataframe thead th {\n",
       "        text-align: right;\n",
       "    }\n",
       "</style>\n",
       "<table border=\"1\" class=\"dataframe\">\n",
       "  <thead>\n",
       "    <tr style=\"text-align: right;\">\n",
       "      <th></th>\n",
       "      <th>Trip #no.</th>\n",
       "      <th>Duration</th>\n",
       "      <th>Cost of Travel(Entire Trip)</th>\n",
       "      <th>Mode of Travel</th>\n",
       "      <th>Stay</th>\n",
       "      <th>First Name</th>\n",
       "      <th>Last Name</th>\n",
       "      <th>Date of Birth</th>\n",
       "      <th>Address</th>\n",
       "      <th>Age</th>\n",
       "      <th>Sex</th>\n",
       "      <th>Nationality</th>\n",
       "      <th>Date of Travel</th>\n",
       "    </tr>\n",
       "  </thead>\n",
       "  <tbody>\n",
       "    <tr>\n",
       "      <th>0</th>\n",
       "      <td>55</td>\n",
       "      <td>1</td>\n",
       "      <td>20111</td>\n",
       "      <td>Flight</td>\n",
       "      <td>Hotel</td>\n",
       "      <td>Cristina</td>\n",
       "      <td>Fuentes</td>\n",
       "      <td>6/14/14</td>\n",
       "      <td>5143 Pope Camp Apt. 028\\nLake Emily, UT 71371</td>\n",
       "      <td>74</td>\n",
       "      <td>Non-Binary</td>\n",
       "      <td>Lao People's Democratic Republic</td>\n",
       "      <td>9/13/22</td>\n",
       "    </tr>\n",
       "    <tr>\n",
       "      <th>1</th>\n",
       "      <td>288</td>\n",
       "      <td>5</td>\n",
       "      <td>29681</td>\n",
       "      <td>Car</td>\n",
       "      <td>Hotel</td>\n",
       "      <td>Patricia</td>\n",
       "      <td>Young</td>\n",
       "      <td>9/25/23</td>\n",
       "      <td>716 Dominguez Row Suite 775\\nSouth Tiffanyboro...</td>\n",
       "      <td>19</td>\n",
       "      <td>Female</td>\n",
       "      <td>Gabon</td>\n",
       "      <td>9/4/21</td>\n",
       "    </tr>\n",
       "    <tr>\n",
       "      <th>2</th>\n",
       "      <td>291</td>\n",
       "      <td>7</td>\n",
       "      <td>24950</td>\n",
       "      <td>Flight</td>\n",
       "      <td>Airbnb</td>\n",
       "      <td>Christina</td>\n",
       "      <td>Kirby</td>\n",
       "      <td>1/2/35</td>\n",
       "      <td>PSC 4600, Box 1237\\nAPO AE 32510</td>\n",
       "      <td>36</td>\n",
       "      <td>Female</td>\n",
       "      <td>Syrian Arab Republic</td>\n",
       "      <td>1/25/21</td>\n",
       "    </tr>\n",
       "    <tr>\n",
       "      <th>3</th>\n",
       "      <td>131</td>\n",
       "      <td>19</td>\n",
       "      <td>18676</td>\n",
       "      <td>Roadtrip</td>\n",
       "      <td>Airbnb</td>\n",
       "      <td>Michael</td>\n",
       "      <td>Hudson</td>\n",
       "      <td>4/21/82</td>\n",
       "      <td>7013 Bryant Club Suite 695\\nSouth Tina, WI 26739</td>\n",
       "      <td>38</td>\n",
       "      <td>Non-Binary</td>\n",
       "      <td>Afghanistan</td>\n",
       "      <td>1/28/22</td>\n",
       "    </tr>\n",
       "    <tr>\n",
       "      <th>4</th>\n",
       "      <td>281</td>\n",
       "      <td>28</td>\n",
       "      <td>18899</td>\n",
       "      <td>Flight</td>\n",
       "      <td>Airbnb</td>\n",
       "      <td>Francisco</td>\n",
       "      <td>Hensley</td>\n",
       "      <td>6/29/13</td>\n",
       "      <td>074 Scott Brook Suite 700\\nLukeville, VA 46541</td>\n",
       "      <td>38</td>\n",
       "      <td>Non-Binary</td>\n",
       "      <td>Uruguay</td>\n",
       "      <td>10/21/21</td>\n",
       "    </tr>\n",
       "  </tbody>\n",
       "</table>\n",
       "</div>"
      ],
      "text/plain": [
       "   Trip #no.  Duration  Cost of Travel(Entire Trip) Mode of Travel    Stay  \\\n",
       "0         55         1                        20111         Flight   Hotel   \n",
       "1        288         5                        29681            Car   Hotel   \n",
       "2        291         7                        24950         Flight  Airbnb   \n",
       "3        131        19                        18676       Roadtrip  Airbnb   \n",
       "4        281        28                        18899         Flight  Airbnb   \n",
       "\n",
       "  First Name Last Name Date of Birth  \\\n",
       "0   Cristina   Fuentes       6/14/14   \n",
       "1   Patricia     Young       9/25/23   \n",
       "2  Christina     Kirby        1/2/35   \n",
       "3    Michael    Hudson       4/21/82   \n",
       "4  Francisco   Hensley       6/29/13   \n",
       "\n",
       "                                             Address  Age         Sex  \\\n",
       "0      5143 Pope Camp Apt. 028\\nLake Emily, UT 71371   74  Non-Binary   \n",
       "1  716 Dominguez Row Suite 775\\nSouth Tiffanyboro...   19      Female   \n",
       "2                   PSC 4600, Box 1237\\nAPO AE 32510   36      Female   \n",
       "3   7013 Bryant Club Suite 695\\nSouth Tina, WI 26739   38  Non-Binary   \n",
       "4     074 Scott Brook Suite 700\\nLukeville, VA 46541   38  Non-Binary   \n",
       "\n",
       "                        Nationality Date of Travel  \n",
       "0  Lao People's Democratic Republic        9/13/22  \n",
       "1                             Gabon         9/4/21  \n",
       "2              Syrian Arab Republic        1/25/21  \n",
       "3                       Afghanistan        1/28/22  \n",
       "4                           Uruguay       10/21/21  "
      ]
     },
     "execution_count": 295,
     "metadata": {},
     "output_type": "execute_result"
    }
   ],
   "source": [
    "# Provide the file path to your local dataset\n",
    "file_path = \"/Users/mavingill/Downloads/Greece_Travel_Data/travel_tourism_dataset.csv\"\n",
    "\n",
    "# Load the dataset from the specified file\n",
    "greece_travel_data = pd.read_csv(file_path)\n",
    "\n",
    "# Display the first few rows of the dataset\n",
    "greece_travel_data.head()"
   ]
  },
  {
   "cell_type": "code",
   "execution_count": 296,
   "metadata": {},
   "outputs": [
    {
     "name": "stderr",
     "output_type": "stream",
     "text": [
      "/var/folders/_8/6yz20cqn3h916cl84cktrsn40000gn/T/ipykernel_78604/3468884537.py:2: UserWarning: Could not infer format, so each element will be parsed individually, falling back to `dateutil`. To ensure parsing is consistent and as-expected, please specify a format.\n",
      "  greece_travel_data['Date of Travel'] = pd.to_datetime(greece_travel_data['Date of Travel'])\n"
     ]
    },
    {
     "data": {
      "text/html": [
       "<div>\n",
       "<style scoped>\n",
       "    .dataframe tbody tr th:only-of-type {\n",
       "        vertical-align: middle;\n",
       "    }\n",
       "\n",
       "    .dataframe tbody tr th {\n",
       "        vertical-align: top;\n",
       "    }\n",
       "\n",
       "    .dataframe thead th {\n",
       "        text-align: right;\n",
       "    }\n",
       "</style>\n",
       "<table border=\"1\" class=\"dataframe\">\n",
       "  <thead>\n",
       "    <tr style=\"text-align: right;\">\n",
       "      <th></th>\n",
       "      <th>Duration</th>\n",
       "      <th>Cost of Travel(Entire Trip) in Euros</th>\n",
       "      <th>Mode of Travel</th>\n",
       "      <th>Stay</th>\n",
       "      <th>First Name</th>\n",
       "      <th>Last Name</th>\n",
       "      <th>Date of Birth</th>\n",
       "      <th>Address</th>\n",
       "      <th>Age</th>\n",
       "      <th>Sex</th>\n",
       "      <th>Nationality</th>\n",
       "      <th>Year</th>\n",
       "      <th>Month</th>\n",
       "      <th>Day</th>\n",
       "    </tr>\n",
       "  </thead>\n",
       "  <tbody>\n",
       "    <tr>\n",
       "      <th>0</th>\n",
       "      <td>1</td>\n",
       "      <td>20111</td>\n",
       "      <td>Flight</td>\n",
       "      <td>Hotel</td>\n",
       "      <td>Cristina</td>\n",
       "      <td>Fuentes</td>\n",
       "      <td>6/14/14</td>\n",
       "      <td>5143 Pope Camp Apt. 028\\nLake Emily, UT 71371</td>\n",
       "      <td>74</td>\n",
       "      <td>Non-Binary</td>\n",
       "      <td>Lao People's Democratic Republic</td>\n",
       "      <td>2022</td>\n",
       "      <td>9</td>\n",
       "      <td>13</td>\n",
       "    </tr>\n",
       "    <tr>\n",
       "      <th>1</th>\n",
       "      <td>5</td>\n",
       "      <td>29681</td>\n",
       "      <td>Car</td>\n",
       "      <td>Hotel</td>\n",
       "      <td>Patricia</td>\n",
       "      <td>Young</td>\n",
       "      <td>9/25/23</td>\n",
       "      <td>716 Dominguez Row Suite 775\\nSouth Tiffanyboro...</td>\n",
       "      <td>19</td>\n",
       "      <td>Female</td>\n",
       "      <td>Gabon</td>\n",
       "      <td>2021</td>\n",
       "      <td>9</td>\n",
       "      <td>4</td>\n",
       "    </tr>\n",
       "    <tr>\n",
       "      <th>2</th>\n",
       "      <td>7</td>\n",
       "      <td>24950</td>\n",
       "      <td>Flight</td>\n",
       "      <td>Airbnb</td>\n",
       "      <td>Christina</td>\n",
       "      <td>Kirby</td>\n",
       "      <td>1/2/35</td>\n",
       "      <td>PSC 4600, Box 1237\\nAPO AE 32510</td>\n",
       "      <td>36</td>\n",
       "      <td>Female</td>\n",
       "      <td>Syrian Arab Republic</td>\n",
       "      <td>2021</td>\n",
       "      <td>1</td>\n",
       "      <td>25</td>\n",
       "    </tr>\n",
       "    <tr>\n",
       "      <th>3</th>\n",
       "      <td>19</td>\n",
       "      <td>18676</td>\n",
       "      <td>Roadtrip</td>\n",
       "      <td>Airbnb</td>\n",
       "      <td>Michael</td>\n",
       "      <td>Hudson</td>\n",
       "      <td>4/21/82</td>\n",
       "      <td>7013 Bryant Club Suite 695\\nSouth Tina, WI 26739</td>\n",
       "      <td>38</td>\n",
       "      <td>Non-Binary</td>\n",
       "      <td>Afghanistan</td>\n",
       "      <td>2022</td>\n",
       "      <td>1</td>\n",
       "      <td>28</td>\n",
       "    </tr>\n",
       "    <tr>\n",
       "      <th>4</th>\n",
       "      <td>28</td>\n",
       "      <td>18899</td>\n",
       "      <td>Flight</td>\n",
       "      <td>Airbnb</td>\n",
       "      <td>Francisco</td>\n",
       "      <td>Hensley</td>\n",
       "      <td>6/29/13</td>\n",
       "      <td>074 Scott Brook Suite 700\\nLukeville, VA 46541</td>\n",
       "      <td>38</td>\n",
       "      <td>Non-Binary</td>\n",
       "      <td>Uruguay</td>\n",
       "      <td>2021</td>\n",
       "      <td>10</td>\n",
       "      <td>21</td>\n",
       "    </tr>\n",
       "  </tbody>\n",
       "</table>\n",
       "</div>"
      ],
      "text/plain": [
       "   Duration  Cost of Travel(Entire Trip) in Euros Mode of Travel    Stay  \\\n",
       "0         1                                 20111         Flight   Hotel   \n",
       "1         5                                 29681            Car   Hotel   \n",
       "2         7                                 24950         Flight  Airbnb   \n",
       "3        19                                 18676       Roadtrip  Airbnb   \n",
       "4        28                                 18899         Flight  Airbnb   \n",
       "\n",
       "  First Name Last Name Date of Birth  \\\n",
       "0   Cristina   Fuentes       6/14/14   \n",
       "1   Patricia     Young       9/25/23   \n",
       "2  Christina     Kirby        1/2/35   \n",
       "3    Michael    Hudson       4/21/82   \n",
       "4  Francisco   Hensley       6/29/13   \n",
       "\n",
       "                                             Address  Age         Sex  \\\n",
       "0      5143 Pope Camp Apt. 028\\nLake Emily, UT 71371   74  Non-Binary   \n",
       "1  716 Dominguez Row Suite 775\\nSouth Tiffanyboro...   19      Female   \n",
       "2                   PSC 4600, Box 1237\\nAPO AE 32510   36      Female   \n",
       "3   7013 Bryant Club Suite 695\\nSouth Tina, WI 26739   38  Non-Binary   \n",
       "4     074 Scott Brook Suite 700\\nLukeville, VA 46541   38  Non-Binary   \n",
       "\n",
       "                        Nationality  Year  Month  Day  \n",
       "0  Lao People's Democratic Republic  2022      9   13  \n",
       "1                             Gabon  2021      9    4  \n",
       "2              Syrian Arab Republic  2021      1   25  \n",
       "3                       Afghanistan  2022      1   28  \n",
       "4                           Uruguay  2021     10   21  "
      ]
     },
     "execution_count": 296,
     "metadata": {},
     "output_type": "execute_result"
    }
   ],
   "source": [
    "# Convert 'Date of Travel' column to datetime format\n",
    "greece_travel_data['Date of Travel'] = pd.to_datetime(greece_travel_data['Date of Travel'])\n",
    "\n",
    "# Split the date column into year, month, and day columns\n",
    "greece_travel_data['Year'] = greece_travel_data['Date of Travel'].dt.year\n",
    "greece_travel_data['Month'] = greece_travel_data['Date of Travel'].dt.month\n",
    "greece_travel_data['Day'] = greece_travel_data['Date of Travel'].dt.day\n",
    "\n",
    "\n",
    "# Drop columns 'Trip #no.' and 'Date of Travel' from the DataFrame\n",
    "cleaned_df = greece_travel_data.drop(['Trip #no.', 'Date of Travel'], axis=1)\n",
    "\n",
    "# Rename the 'Cost of Travel(Entire Trip)' to 'Cost of Travel(Entire Trip) in Euros'\n",
    "cleaned_df = cleaned_df.rename(columns={'Cost of Travel(Entire Trip)': 'Cost of Travel(Entire Trip) in Euros'})\n",
    "\n",
    "# Display the modified DataFrame\n",
    "cleaned_df.head()"
   ]
  },
  {
   "cell_type": "code",
   "execution_count": 297,
   "metadata": {},
   "outputs": [],
   "source": [
    "# Separate the data into labels and features\n",
    "\n",
    "# Separate the y variable, the labels\n",
    "y = greece_travel_data['Stay']\n",
    "\n",
    "# Separate the X variable, the features\n",
    "X = greece_travel_data.drop(\"Stay\", axis=1)"
   ]
  },
  {
   "cell_type": "code",
   "execution_count": 298,
   "metadata": {},
   "outputs": [
    {
     "data": {
      "text/plain": [
       "0     Hotel\n",
       "1     Hotel\n",
       "2    Airbnb\n",
       "3    Airbnb\n",
       "4    Airbnb\n",
       "Name: Stay, dtype: object"
      ]
     },
     "execution_count": 298,
     "metadata": {},
     "output_type": "execute_result"
    }
   ],
   "source": [
    "# Review the y variable Series\n",
    "y[:5]"
   ]
  },
  {
   "cell_type": "code",
   "execution_count": 299,
   "metadata": {},
   "outputs": [
    {
     "data": {
      "text/html": [
       "<div>\n",
       "<style scoped>\n",
       "    .dataframe tbody tr th:only-of-type {\n",
       "        vertical-align: middle;\n",
       "    }\n",
       "\n",
       "    .dataframe tbody tr th {\n",
       "        vertical-align: top;\n",
       "    }\n",
       "\n",
       "    .dataframe thead th {\n",
       "        text-align: right;\n",
       "    }\n",
       "</style>\n",
       "<table border=\"1\" class=\"dataframe\">\n",
       "  <thead>\n",
       "    <tr style=\"text-align: right;\">\n",
       "      <th></th>\n",
       "      <th>Trip #no.</th>\n",
       "      <th>Duration</th>\n",
       "      <th>Cost of Travel(Entire Trip)</th>\n",
       "      <th>Mode of Travel</th>\n",
       "      <th>First Name</th>\n",
       "      <th>Last Name</th>\n",
       "      <th>Date of Birth</th>\n",
       "      <th>Address</th>\n",
       "      <th>Age</th>\n",
       "      <th>Sex</th>\n",
       "      <th>Nationality</th>\n",
       "      <th>Date of Travel</th>\n",
       "      <th>Year</th>\n",
       "      <th>Month</th>\n",
       "      <th>Day</th>\n",
       "    </tr>\n",
       "  </thead>\n",
       "  <tbody>\n",
       "    <tr>\n",
       "      <th>0</th>\n",
       "      <td>55</td>\n",
       "      <td>1</td>\n",
       "      <td>20111</td>\n",
       "      <td>Flight</td>\n",
       "      <td>Cristina</td>\n",
       "      <td>Fuentes</td>\n",
       "      <td>6/14/14</td>\n",
       "      <td>5143 Pope Camp Apt. 028\\nLake Emily, UT 71371</td>\n",
       "      <td>74</td>\n",
       "      <td>Non-Binary</td>\n",
       "      <td>Lao People's Democratic Republic</td>\n",
       "      <td>2022-09-13</td>\n",
       "      <td>2022</td>\n",
       "      <td>9</td>\n",
       "      <td>13</td>\n",
       "    </tr>\n",
       "    <tr>\n",
       "      <th>1</th>\n",
       "      <td>288</td>\n",
       "      <td>5</td>\n",
       "      <td>29681</td>\n",
       "      <td>Car</td>\n",
       "      <td>Patricia</td>\n",
       "      <td>Young</td>\n",
       "      <td>9/25/23</td>\n",
       "      <td>716 Dominguez Row Suite 775\\nSouth Tiffanyboro...</td>\n",
       "      <td>19</td>\n",
       "      <td>Female</td>\n",
       "      <td>Gabon</td>\n",
       "      <td>2021-09-04</td>\n",
       "      <td>2021</td>\n",
       "      <td>9</td>\n",
       "      <td>4</td>\n",
       "    </tr>\n",
       "    <tr>\n",
       "      <th>2</th>\n",
       "      <td>291</td>\n",
       "      <td>7</td>\n",
       "      <td>24950</td>\n",
       "      <td>Flight</td>\n",
       "      <td>Christina</td>\n",
       "      <td>Kirby</td>\n",
       "      <td>1/2/35</td>\n",
       "      <td>PSC 4600, Box 1237\\nAPO AE 32510</td>\n",
       "      <td>36</td>\n",
       "      <td>Female</td>\n",
       "      <td>Syrian Arab Republic</td>\n",
       "      <td>2021-01-25</td>\n",
       "      <td>2021</td>\n",
       "      <td>1</td>\n",
       "      <td>25</td>\n",
       "    </tr>\n",
       "    <tr>\n",
       "      <th>3</th>\n",
       "      <td>131</td>\n",
       "      <td>19</td>\n",
       "      <td>18676</td>\n",
       "      <td>Roadtrip</td>\n",
       "      <td>Michael</td>\n",
       "      <td>Hudson</td>\n",
       "      <td>4/21/82</td>\n",
       "      <td>7013 Bryant Club Suite 695\\nSouth Tina, WI 26739</td>\n",
       "      <td>38</td>\n",
       "      <td>Non-Binary</td>\n",
       "      <td>Afghanistan</td>\n",
       "      <td>2022-01-28</td>\n",
       "      <td>2022</td>\n",
       "      <td>1</td>\n",
       "      <td>28</td>\n",
       "    </tr>\n",
       "    <tr>\n",
       "      <th>4</th>\n",
       "      <td>281</td>\n",
       "      <td>28</td>\n",
       "      <td>18899</td>\n",
       "      <td>Flight</td>\n",
       "      <td>Francisco</td>\n",
       "      <td>Hensley</td>\n",
       "      <td>6/29/13</td>\n",
       "      <td>074 Scott Brook Suite 700\\nLukeville, VA 46541</td>\n",
       "      <td>38</td>\n",
       "      <td>Non-Binary</td>\n",
       "      <td>Uruguay</td>\n",
       "      <td>2021-10-21</td>\n",
       "      <td>2021</td>\n",
       "      <td>10</td>\n",
       "      <td>21</td>\n",
       "    </tr>\n",
       "  </tbody>\n",
       "</table>\n",
       "</div>"
      ],
      "text/plain": [
       "   Trip #no.  Duration  Cost of Travel(Entire Trip) Mode of Travel First Name  \\\n",
       "0         55         1                        20111         Flight   Cristina   \n",
       "1        288         5                        29681            Car   Patricia   \n",
       "2        291         7                        24950         Flight  Christina   \n",
       "3        131        19                        18676       Roadtrip    Michael   \n",
       "4        281        28                        18899         Flight  Francisco   \n",
       "\n",
       "  Last Name Date of Birth                                            Address  \\\n",
       "0   Fuentes       6/14/14      5143 Pope Camp Apt. 028\\nLake Emily, UT 71371   \n",
       "1     Young       9/25/23  716 Dominguez Row Suite 775\\nSouth Tiffanyboro...   \n",
       "2     Kirby        1/2/35                   PSC 4600, Box 1237\\nAPO AE 32510   \n",
       "3    Hudson       4/21/82   7013 Bryant Club Suite 695\\nSouth Tina, WI 26739   \n",
       "4   Hensley       6/29/13     074 Scott Brook Suite 700\\nLukeville, VA 46541   \n",
       "\n",
       "   Age         Sex                       Nationality Date of Travel  Year  \\\n",
       "0   74  Non-Binary  Lao People's Democratic Republic     2022-09-13  2022   \n",
       "1   19      Female                             Gabon     2021-09-04  2021   \n",
       "2   36      Female              Syrian Arab Republic     2021-01-25  2021   \n",
       "3   38  Non-Binary                       Afghanistan     2022-01-28  2022   \n",
       "4   38  Non-Binary                           Uruguay     2021-10-21  2021   \n",
       "\n",
       "   Month  Day  \n",
       "0      9   13  \n",
       "1      9    4  \n",
       "2      1   25  \n",
       "3      1   28  \n",
       "4     10   21  "
      ]
     },
     "execution_count": 299,
     "metadata": {},
     "output_type": "execute_result"
    }
   ],
   "source": [
    "# Review the X variable DataFrame\n",
    "X.head()"
   ]
  },
  {
   "cell_type": "code",
   "execution_count": 300,
   "metadata": {},
   "outputs": [
    {
     "data": {
      "text/plain": [
       "Stay\n",
       "Other      787\n",
       "Airbnb     786\n",
       "Hotel      724\n",
       "Resorts    703\n",
       "Name: count, dtype: int64"
      ]
     },
     "execution_count": 300,
     "metadata": {},
     "output_type": "execute_result"
    }
   ],
   "source": [
    "# Check the balance of our target values\n",
    "y.value_counts()"
   ]
  },
  {
   "cell_type": "code",
   "execution_count": 301,
   "metadata": {},
   "outputs": [
    {
     "name": "stderr",
     "output_type": "stream",
     "text": [
      "/Users/mavingill/Applications/anaconda3/envs/Env_2/lib/python3.10/site-packages/sklearn/preprocessing/_encoders.py:972: FutureWarning: `sparse` was renamed to `sparse_output` in version 1.2 and will be removed in 1.4. `sparse_output` is ignored unless you leave `sparse` to its default value.\n",
      "  warnings.warn(\n"
     ]
    }
   ],
   "source": [
    "# Combine X_train and X_test into a single dataset\n",
    "X_combined = pd.concat([X_train, X_test])\n",
    "\n",
    "# Initialize the OneHotEncoder with handle_unknown='ignore'\n",
    "encoder = OneHotEncoder(sparse=False, drop='first', handle_unknown='ignore')\n",
    "\n",
    "# Fit the encoder on your combined data and transform both the training and test data\n",
    "X_encoded = encoder.fit_transform(X_combined)\n",
    "\n",
    "# Split the encoded data back into X_train_encoded and X_test_encoded\n",
    "X_train_encoded = X_encoded[:len(X_train)]\n",
    "X_test_encoded = X_encoded[len(X_train):]\n",
    "\n",
    "# Get the feature names from the encoder\n",
    "feature_names = encoder.get_feature_names_out(input_features=X_combined.columns)\n",
    "\n",
    "# Create DataFrames from the encoded arrays and assign column names\n",
    "X_train_encoded_df = pd.DataFrame(X_train_encoded, columns=feature_names)\n",
    "X_test_encoded_df = pd.DataFrame(X_test_encoded, columns=feature_names)"
   ]
  },
  {
   "cell_type": "code",
   "execution_count": 305,
   "metadata": {},
   "outputs": [],
   "source": [
    "# Check if 'Date of Travel' column exists in X_train\n",
    "if 'Date of Travel' in X_train_encoded_df.columns:\n",
    "    X_train_encoded_df['Year'] = X_train_encoded_df['Date of Travel'].dt.year\n",
    "    X_train_encoded_df['Month'] = X_train_encoded_df['Date of Travel'].dt.month\n",
    "    X_train_encoded_df['Day'] = X_train_encoded_df['Date of Travel'].dt.day\n",
    "    X_train_encoded_df = X_train_encoded_df.drop('Date of Travel', axis=1)\n",
    "\n",
    "# Check if 'Date of Travel' column exists in X_test\n",
    "if 'Date of Travel' in X_test_encoded_df.columns:\n",
    "    X_test_encoded_df['Year'] = X_test_encoded_df['Date of Travel'].dt.year\n",
    "    X_test_encoded_df['Month'] = X_test_encoded_df['Date of Travel'].dt.month\n",
    "    X_test_encoded_df['Day'] = X_test_encoded_df['Date of Travel'].dt.day\n",
    "    X_test_encoded_df = X_test_encoded_df.drop('Date of Travel', axis=1)"
   ]
  },
  {
   "cell_type": "code",
   "execution_count": 306,
   "metadata": {},
   "outputs": [
    {
     "name": "stdout",
     "output_type": "stream",
     "text": [
      "Index(['Trip #no._2', 'Trip #no._3', 'Trip #no._4', 'Trip #no._5',\n",
      "       'Trip #no._6', 'Trip #no._7', 'Trip #no._8', 'Trip #no._9',\n",
      "       'Trip #no._10', 'Trip #no._11',\n",
      "       ...\n",
      "       'Address_Unit 6964 Box 2307\\nDPO AA 42980_True',\n",
      "       'Address_Unit 6964 Box 2307\\nDPO AA 42980_nan',\n",
      "       'Address_Unit 7182 Box 6902\\nDPO AA 28882_True',\n",
      "       'Address_Unit 7182 Box 6902\\nDPO AA 28882_nan',\n",
      "       'Address_Unit 7275 Box 1868\\nDPO AE 80072_True',\n",
      "       'Address_Unit 7275 Box 1868\\nDPO AE 80072_nan',\n",
      "       'Address_Unit 7957 Box 3060\\nDPO AA 26723_True',\n",
      "       'Address_Unit 7957 Box 3060\\nDPO AA 26723_nan',\n",
      "       'Address_Unit 9803 Box 4160\\nDPO AP 93165_True',\n",
      "       'Address_Unit 9803 Box 4160\\nDPO AP 93165_nan'],\n",
      "      dtype='object', length=18519)\n"
     ]
    }
   ],
   "source": [
    "print(X_train_encoded_df.columns)"
   ]
  },
  {
   "cell_type": "code",
   "execution_count": 307,
   "metadata": {},
   "outputs": [],
   "source": [
    "from sklearn.preprocessing import LabelEncoder\n",
    "\n",
    "label_encoder = LabelEncoder()\n",
    "y_train = label_encoder.fit_transform(y_train)\n",
    "y_test = label_encoder.transform(y_test)"
   ]
  },
  {
   "cell_type": "code",
   "execution_count": 308,
   "metadata": {},
   "outputs": [
    {
     "name": "stdout",
     "output_type": "stream",
     "text": [
      "Datetime columns in X_train: Index([], dtype='object')\n"
     ]
    }
   ],
   "source": [
    "datetime_columns = X_train_encoded_df.select_dtypes(include=['datetime64']).columns\n",
    "print(\"Datetime columns in X_train:\", datetime_columns)"
   ]
  },
  {
   "cell_type": "code",
   "execution_count": 309,
   "metadata": {},
   "outputs": [],
   "source": [
    "X_train_encoded_df = X_train_encoded_df.apply(pd.to_numeric, errors='coerce')\n",
    "X_test_encoded_df = X_test_encoded_df.apply(pd.to_numeric, errors='coerce')"
   ]
  },
  {
   "cell_type": "code",
   "execution_count": 310,
   "metadata": {},
   "outputs": [],
   "source": [
    "y_train = y_train.astype(int)\n",
    "y_test = y_test.astype(int)"
   ]
  },
  {
   "cell_type": "code",
   "execution_count": 311,
   "metadata": {},
   "outputs": [
    {
     "name": "stdout",
     "output_type": "stream",
     "text": [
      "Data Type of y_train: int64\n",
      "Data Type of y_test: int64\n"
     ]
    }
   ],
   "source": [
    "print(\"Data Type of y_train:\", y_train.dtype)\n",
    "print(\"Data Type of y_test:\", y_test.dtype)"
   ]
  },
  {
   "cell_type": "code",
   "execution_count": 313,
   "metadata": {},
   "outputs": [],
   "source": [
    "# Import the train_test_learn module\n",
    "from sklearn.model_selection import train_test_split\n",
    "\n",
    "# Split the data using train_test_split\n",
    "# Assign a random_state of 1 to the function\n",
    "X_train_encoded, X_test_encoded, y_train, y_test = train_test_split(X_encoded, y, random_state=1, stratify=y)"
   ]
  },
  {
   "cell_type": "code",
   "execution_count": 315,
   "metadata": {},
   "outputs": [
    {
     "name": "stderr",
     "output_type": "stream",
     "text": [
      "/Users/mavingill/Applications/anaconda3/envs/Env_2/lib/python3.10/site-packages/sklearn/linear_model/_logistic.py:460: ConvergenceWarning: lbfgs failed to converge (status=1):\n",
      "STOP: TOTAL NO. of ITERATIONS REACHED LIMIT.\n",
      "\n",
      "Increase the number of iterations (max_iter) or scale the data as shown in:\n",
      "    https://scikit-learn.org/stable/modules/preprocessing.html\n",
      "Please also refer to the documentation for alternative solver options:\n",
      "    https://scikit-learn.org/stable/modules/linear_model.html#logistic-regression\n",
      "  n_iter_i = _check_optimize_result(\n"
     ]
    },
    {
     "data": {
      "text/html": [
       "<style>#sk-container-id-2 {color: black;}#sk-container-id-2 pre{padding: 0;}#sk-container-id-2 div.sk-toggleable {background-color: white;}#sk-container-id-2 label.sk-toggleable__label {cursor: pointer;display: block;width: 100%;margin-bottom: 0;padding: 0.3em;box-sizing: border-box;text-align: center;}#sk-container-id-2 label.sk-toggleable__label-arrow:before {content: \"▸\";float: left;margin-right: 0.25em;color: #696969;}#sk-container-id-2 label.sk-toggleable__label-arrow:hover:before {color: black;}#sk-container-id-2 div.sk-estimator:hover label.sk-toggleable__label-arrow:before {color: black;}#sk-container-id-2 div.sk-toggleable__content {max-height: 0;max-width: 0;overflow: hidden;text-align: left;background-color: #f0f8ff;}#sk-container-id-2 div.sk-toggleable__content pre {margin: 0.2em;color: black;border-radius: 0.25em;background-color: #f0f8ff;}#sk-container-id-2 input.sk-toggleable__control:checked~div.sk-toggleable__content {max-height: 200px;max-width: 100%;overflow: auto;}#sk-container-id-2 input.sk-toggleable__control:checked~label.sk-toggleable__label-arrow:before {content: \"▾\";}#sk-container-id-2 div.sk-estimator input.sk-toggleable__control:checked~label.sk-toggleable__label {background-color: #d4ebff;}#sk-container-id-2 div.sk-label input.sk-toggleable__control:checked~label.sk-toggleable__label {background-color: #d4ebff;}#sk-container-id-2 input.sk-hidden--visually {border: 0;clip: rect(1px 1px 1px 1px);clip: rect(1px, 1px, 1px, 1px);height: 1px;margin: -1px;overflow: hidden;padding: 0;position: absolute;width: 1px;}#sk-container-id-2 div.sk-estimator {font-family: monospace;background-color: #f0f8ff;border: 1px dotted black;border-radius: 0.25em;box-sizing: border-box;margin-bottom: 0.5em;}#sk-container-id-2 div.sk-estimator:hover {background-color: #d4ebff;}#sk-container-id-2 div.sk-parallel-item::after {content: \"\";width: 100%;border-bottom: 1px solid gray;flex-grow: 1;}#sk-container-id-2 div.sk-label:hover label.sk-toggleable__label {background-color: #d4ebff;}#sk-container-id-2 div.sk-serial::before {content: \"\";position: absolute;border-left: 1px solid gray;box-sizing: border-box;top: 0;bottom: 0;left: 50%;z-index: 0;}#sk-container-id-2 div.sk-serial {display: flex;flex-direction: column;align-items: center;background-color: white;padding-right: 0.2em;padding-left: 0.2em;position: relative;}#sk-container-id-2 div.sk-item {position: relative;z-index: 1;}#sk-container-id-2 div.sk-parallel {display: flex;align-items: stretch;justify-content: center;background-color: white;position: relative;}#sk-container-id-2 div.sk-item::before, #sk-container-id-2 div.sk-parallel-item::before {content: \"\";position: absolute;border-left: 1px solid gray;box-sizing: border-box;top: 0;bottom: 0;left: 50%;z-index: -1;}#sk-container-id-2 div.sk-parallel-item {display: flex;flex-direction: column;z-index: 1;position: relative;background-color: white;}#sk-container-id-2 div.sk-parallel-item:first-child::after {align-self: flex-end;width: 50%;}#sk-container-id-2 div.sk-parallel-item:last-child::after {align-self: flex-start;width: 50%;}#sk-container-id-2 div.sk-parallel-item:only-child::after {width: 0;}#sk-container-id-2 div.sk-dashed-wrapped {border: 1px dashed gray;margin: 0 0.4em 0.5em 0.4em;box-sizing: border-box;padding-bottom: 0.4em;background-color: white;}#sk-container-id-2 div.sk-label label {font-family: monospace;font-weight: bold;display: inline-block;line-height: 1.2em;}#sk-container-id-2 div.sk-label-container {text-align: center;}#sk-container-id-2 div.sk-container {/* jupyter's `normalize.less` sets `[hidden] { display: none; }` but bootstrap.min.css set `[hidden] { display: none !important; }` so we also need the `!important` here to be able to override the default hidden behavior on the sphinx rendered scikit-learn.org. See: https://github.com/scikit-learn/scikit-learn/issues/21755 */display: inline-block !important;position: relative;}#sk-container-id-2 div.sk-text-repr-fallback {display: none;}</style><div id=\"sk-container-id-2\" class=\"sk-top-container\"><div class=\"sk-text-repr-fallback\"><pre>LogisticRegression(max_iter=1000, random_state=1)</pre><b>In a Jupyter environment, please rerun this cell to show the HTML representation or trust the notebook. <br />On GitHub, the HTML representation is unable to render, please try loading this page with nbviewer.org.</b></div><div class=\"sk-container\" hidden><div class=\"sk-item\"><div class=\"sk-estimator sk-toggleable\"><input class=\"sk-toggleable__control sk-hidden--visually\" id=\"sk-estimator-id-2\" type=\"checkbox\" checked><label for=\"sk-estimator-id-2\" class=\"sk-toggleable__label sk-toggleable__label-arrow\">LogisticRegression</label><div class=\"sk-toggleable__content\"><pre>LogisticRegression(max_iter=1000, random_state=1)</pre></div></div></div></div></div>"
      ],
      "text/plain": [
       "LogisticRegression(max_iter=1000, random_state=1)"
      ]
     },
     "execution_count": 315,
     "metadata": {},
     "output_type": "execute_result"
    }
   ],
   "source": [
    "# Import the LogisticRegression module from SKLearn\n",
    "from sklearn.linear_model import LogisticRegression\n",
    "\n",
    "# Instantiate the Logistic Regression model\n",
    "# Assign a random_state parameter of 1 and increase max_iter\n",
    "classifier = LogisticRegression(solver='lbfgs', random_state=1, max_iter=1000)\n",
    "\n",
    "# Fit the model using training data\n",
    "classifier.fit(X_train_encoded, y_train)"
   ]
  },
  {
   "cell_type": "code",
   "execution_count": 322,
   "metadata": {},
   "outputs": [
    {
     "data": {
      "text/html": [
       "<div>\n",
       "<style scoped>\n",
       "    .dataframe tbody tr th:only-of-type {\n",
       "        vertical-align: middle;\n",
       "    }\n",
       "\n",
       "    .dataframe tbody tr th {\n",
       "        vertical-align: top;\n",
       "    }\n",
       "\n",
       "    .dataframe thead th {\n",
       "        text-align: right;\n",
       "    }\n",
       "</style>\n",
       "<table border=\"1\" class=\"dataframe\">\n",
       "  <thead>\n",
       "    <tr style=\"text-align: right;\">\n",
       "      <th></th>\n",
       "      <th>Predictions</th>\n",
       "      <th>Acutal</th>\n",
       "    </tr>\n",
       "  </thead>\n",
       "  <tbody>\n",
       "    <tr>\n",
       "      <th>2092</th>\n",
       "      <td>Hotel</td>\n",
       "      <td>Resorts</td>\n",
       "    </tr>\n",
       "    <tr>\n",
       "      <th>2153</th>\n",
       "      <td>Hotel</td>\n",
       "      <td>Other</td>\n",
       "    </tr>\n",
       "    <tr>\n",
       "      <th>1121</th>\n",
       "      <td>Hotel</td>\n",
       "      <td>Other</td>\n",
       "    </tr>\n",
       "    <tr>\n",
       "      <th>1771</th>\n",
       "      <td>Other</td>\n",
       "      <td>Other</td>\n",
       "    </tr>\n",
       "    <tr>\n",
       "      <th>2071</th>\n",
       "      <td>Airbnb</td>\n",
       "      <td>Other</td>\n",
       "    </tr>\n",
       "    <tr>\n",
       "      <th>...</th>\n",
       "      <td>...</td>\n",
       "      <td>...</td>\n",
       "    </tr>\n",
       "    <tr>\n",
       "      <th>1255</th>\n",
       "      <td>Resorts</td>\n",
       "      <td>Other</td>\n",
       "    </tr>\n",
       "    <tr>\n",
       "      <th>2635</th>\n",
       "      <td>Airbnb</td>\n",
       "      <td>Hotel</td>\n",
       "    </tr>\n",
       "    <tr>\n",
       "      <th>2328</th>\n",
       "      <td>Airbnb</td>\n",
       "      <td>Other</td>\n",
       "    </tr>\n",
       "    <tr>\n",
       "      <th>2732</th>\n",
       "      <td>Other</td>\n",
       "      <td>Airbnb</td>\n",
       "    </tr>\n",
       "    <tr>\n",
       "      <th>1924</th>\n",
       "      <td>Hotel</td>\n",
       "      <td>Resorts</td>\n",
       "    </tr>\n",
       "  </tbody>\n",
       "</table>\n",
       "<p>750 rows × 2 columns</p>\n",
       "</div>"
      ],
      "text/plain": [
       "     Predictions   Acutal\n",
       "2092       Hotel  Resorts\n",
       "2153       Hotel    Other\n",
       "1121       Hotel    Other\n",
       "1771       Other    Other\n",
       "2071      Airbnb    Other\n",
       "...          ...      ...\n",
       "1255     Resorts    Other\n",
       "2635      Airbnb    Hotel\n",
       "2328      Airbnb    Other\n",
       "2732       Other   Airbnb\n",
       "1924       Hotel  Resorts\n",
       "\n",
       "[750 rows x 2 columns]"
      ]
     },
     "execution_count": 322,
     "metadata": {},
     "output_type": "execute_result"
    }
   ],
   "source": [
    "# Make a prediction using the testing data\n",
    "predictions = classifier.predict(X_test_encoded)\n",
    "pd.DataFrame({\"Predictions\": predictions,\"Acutal\": y_test})"
   ]
  },
  {
   "cell_type": "code",
   "execution_count": 323,
   "metadata": {},
   "outputs": [
    {
     "data": {
      "text/plain": [
       "0.27493431363257315"
      ]
     },
     "execution_count": 323,
     "metadata": {},
     "output_type": "execute_result"
    }
   ],
   "source": [
    "# Print the balanced_accuracy score of the model\n",
    "balanced_accuracy_score(y_test, predictions)"
   ]
  },
  {
   "cell_type": "code",
   "execution_count": 324,
   "metadata": {},
   "outputs": [
    {
     "data": {
      "text/plain": [
       "array([[59, 51, 49, 37],\n",
       "       [46, 45, 50, 40],\n",
       "       [50, 48, 58, 41],\n",
       "       [42, 42, 47, 45]])"
      ]
     },
     "execution_count": 324,
     "metadata": {},
     "output_type": "execute_result"
    }
   ],
   "source": [
    "# Generate a confusion matrix for the model\n",
    "confusion_matrix(y_test, predictions)"
   ]
  },
  {
   "cell_type": "code",
   "execution_count": 325,
   "metadata": {},
   "outputs": [
    {
     "name": "stdout",
     "output_type": "stream",
     "text": [
      "              precision    recall  f1-score   support\n",
      "\n",
      "      Airbnb       0.30      0.30      0.30       196\n",
      "       Hotel       0.24      0.25      0.25       181\n",
      "       Other       0.28      0.29      0.29       197\n",
      "     Resorts       0.28      0.26      0.27       176\n",
      "\n",
      "    accuracy                           0.28       750\n",
      "   macro avg       0.28      0.27      0.28       750\n",
      "weighted avg       0.28      0.28      0.28       750\n",
      "\n"
     ]
    }
   ],
   "source": [
    "# Print the classification report for the model\n",
    "print(classification_report(y_test, predictions))"
   ]
  },
  {
   "cell_type": "code",
   "execution_count": null,
   "metadata": {},
   "outputs": [],
   "source": []
  },
  {
   "cell_type": "code",
   "execution_count": 316,
   "metadata": {},
   "outputs": [
    {
     "name": "stdout",
     "output_type": "stream",
     "text": [
      "Data Type of y_train: object\n",
      "Data Types of X_train Columns:\n",
      "Trip #no.                        int64\n",
      "Duration                         int64\n",
      "Cost of Travel(Entire Trip)      int64\n",
      "Age                              int64\n",
      "Year                             int32\n",
      "                                 ...  \n",
      "Nationality_Wallis and Futuna     bool\n",
      "Nationality_Western Sahara        bool\n",
      "Nationality_Yemen                 bool\n",
      "Nationality_Zambia                bool\n",
      "Nationality_Zimbabwe              bool\n",
      "Length: 5916, dtype: object\n"
     ]
    }
   ],
   "source": [
    "# Check the data type of the target variable (y_train)\n",
    "print(\"Data Type of y_train:\", y_train.dtypes)\n",
    "\n",
    "# Check the data types of the columns in X_train\n",
    "print(\"Data Types of X_train Columns:\")\n",
    "print(X_train.dtypes)"
   ]
  },
  {
   "cell_type": "code",
   "execution_count": 317,
   "metadata": {},
   "outputs": [
    {
     "name": "stdout",
     "output_type": "stream",
     "text": [
      "Data Type of y_train: object\n",
      "Data Type of y_test: object\n"
     ]
    }
   ],
   "source": [
    "print(\"Data Type of y_train:\", y_train.dtypes)\n",
    "print(\"Data Type of y_test:\", y_test.dtypes)"
   ]
  },
  {
   "cell_type": "code",
   "execution_count": 318,
   "metadata": {},
   "outputs": [
    {
     "name": "stdout",
     "output_type": "stream",
     "text": [
      "Unique values in y_train: ['Airbnb' 'Other' 'Resorts' 'Hotel']\n",
      "Unique values in y_test: ['Resorts' 'Other' 'Hotel' 'Airbnb']\n"
     ]
    }
   ],
   "source": [
    "print(\"Unique values in y_train:\", y_train.unique())\n",
    "print(\"Unique values in y_test:\", y_test.unique())"
   ]
  },
  {
   "cell_type": "code",
   "execution_count": 319,
   "metadata": {},
   "outputs": [
    {
     "name": "stdout",
     "output_type": "stream",
     "text": [
      "Missing values in y_train: 0\n",
      "Missing values in y_test: 0\n"
     ]
    }
   ],
   "source": [
    "print(\"Missing values in y_train:\", y_train.isnull().sum())\n",
    "print(\"Missing values in y_test:\", y_test.isnull().sum())"
   ]
  },
  {
   "cell_type": "code",
   "execution_count": 320,
   "metadata": {},
   "outputs": [
    {
     "name": "stdout",
     "output_type": "stream",
     "text": [
      "Data Types of X_train Columns:\n",
      "Trip #no.                        int64\n",
      "Duration                         int64\n",
      "Cost of Travel(Entire Trip)      int64\n",
      "Age                              int64\n",
      "Year                             int32\n",
      "                                 ...  \n",
      "Nationality_Wallis and Futuna     bool\n",
      "Nationality_Western Sahara        bool\n",
      "Nationality_Yemen                 bool\n",
      "Nationality_Zambia                bool\n",
      "Nationality_Zimbabwe              bool\n",
      "Length: 5916, dtype: object\n",
      "Data Types of X_test Columns:\n",
      "Trip #no.                        int64\n",
      "Duration                         int64\n",
      "Cost of Travel(Entire Trip)      int64\n",
      "Age                              int64\n",
      "Year                             int32\n",
      "                                 ...  \n",
      "Nationality_Vietnam               bool\n",
      "Nationality_Wallis and Futuna     bool\n",
      "Nationality_Western Sahara        bool\n",
      "Nationality_Zambia                bool\n",
      "Nationality_Zimbabwe              bool\n",
      "Length: 2467, dtype: object\n"
     ]
    }
   ],
   "source": [
    "# Check the data types of the columns in X_train\n",
    "print(\"Data Types of X_train Columns:\")\n",
    "print(X_train.dtypes)\n",
    "\n",
    "# Check the data types of the columns in X_test\n",
    "print(\"Data Types of X_test Columns:\")\n",
    "print(X_test.dtypes)"
   ]
  },
  {
   "cell_type": "code",
   "execution_count": 321,
   "metadata": {},
   "outputs": [
    {
     "name": "stdout",
     "output_type": "stream",
     "text": [
      "Non-Numeric Columns in X_train:\n",
      "Index([], dtype='object')\n",
      "Non-Numeric Columns in X_test:\n",
      "Index([], dtype='object')\n"
     ]
    }
   ],
   "source": [
    "# Count the number of non-numeric columns in X_train\n",
    "non_numeric_columns_train = X_train.select_dtypes(exclude=['int', 'float', 'bool']).columns\n",
    "print(\"Non-Numeric Columns in X_train:\")\n",
    "print(non_numeric_columns_train)\n",
    "\n",
    "# Count the number of non-numeric columns in X_test\n",
    "non_numeric_columns_test = X_test.select_dtypes(exclude=['int', 'float', 'bool']).columns\n",
    "print(\"Non-Numeric Columns in X_test:\")\n",
    "print(non_numeric_columns_test)"
   ]
  }
 ],
 "metadata": {
  "kernelspec": {
   "display_name": "Python 3",
   "language": "python",
   "name": "python3"
  },
  "language_info": {
   "codemirror_mode": {
    "name": "ipython",
    "version": 3
   },
   "file_extension": ".py",
   "mimetype": "text/x-python",
   "name": "python",
   "nbconvert_exporter": "python",
   "pygments_lexer": "ipython3",
   "version": "3.10.12"
  },
  "orig_nbformat": 4
 },
 "nbformat": 4,
 "nbformat_minor": 2
}
